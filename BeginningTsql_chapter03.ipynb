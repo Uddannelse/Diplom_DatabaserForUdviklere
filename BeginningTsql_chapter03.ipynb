{
    "metadata": {
        "kernelspec": {
            "name": "SQL",
            "display_name": "SQL",
            "language": "sql"
        },
        "language_info": {
            "name": "sql",
            "version": ""
        }
    },
    "nbformat_minor": 2,
    "nbformat": 4,
    "cells": [
        {
            "cell_type": "markdown",
            "source": [
                "Exercise 3-1"
            ],
            "metadata": {
                "azdata_cell_guid": "7aa9c29e-d9d9-4236-bf57-ae54b521139a"
            }
        },
        {
            "cell_type": "markdown",
            "source": [
                "#4"
            ],
            "metadata": {
                "azdata_cell_guid": "bf870693-99c5-4688-89a7-b4967082debb"
            }
        },
        {
            "cell_type": "code",
            "source": [
                "-- Select rows from a Table or View '[Appl]' in schema '[dbo]'\r\n",
                "SELECT StateProvinceCode AS 'ST/NAME'\r\n",
                ", StateProvinceName\r\n",
                "FROM [Application].StateProvinces\r\n",
                "\r\n",
                "GO"
            ],
            "metadata": {
                "azdata_cell_guid": "9bc1277a-bb8b-41b1-bb4a-a490292c5104"
            },
            "outputs": [
                {
                    "output_type": "display_data",
                    "data": {
                        "text/html": "(53 rows affected)"
                    },
                    "metadata": {}
                },
                {
                    "output_type": "display_data",
                    "data": {
                        "text/html": "Total execution time: 00:00:00.004"
                    },
                    "metadata": {}
                },
                {
                    "output_type": "execute_result",
                    "metadata": {},
                    "execution_count": 6,
                    "data": {
                        "application/vnd.dataresource+json": {
                            "schema": {
                                "fields": [
                                    {
                                        "name": "ST/NAME"
                                    },
                                    {
                                        "name": "StateProvinceName"
                                    }
                                ]
                            },
                            "data": [
                                {
                                    "0": "AL",
                                    "1": "Alabama"
                                },
                                {
                                    "0": "AK",
                                    "1": "Alaska"
                                },
                                {
                                    "0": "AZ",
                                    "1": "Arizona"
                                },
                                {
                                    "0": "AR",
                                    "1": "Arkansas"
                                },
                                {
                                    "0": "CA",
                                    "1": "California"
                                },
                                {
                                    "0": "CO",
                                    "1": "Colorado"
                                },
                                {
                                    "0": "CT",
                                    "1": "Connecticut"
                                },
                                {
                                    "0": "DE",
                                    "1": "Delaware"
                                },
                                {
                                    "0": "DC",
                                    "1": "District of Columbia"
                                },
                                {
                                    "0": "FL",
                                    "1": "Florida"
                                },
                                {
                                    "0": "GA",
                                    "1": "Georgia"
                                },
                                {
                                    "0": "HI",
                                    "1": "Hawaii"
                                },
                                {
                                    "0": "ID",
                                    "1": "Idaho"
                                },
                                {
                                    "0": "IL",
                                    "1": "Illinois"
                                },
                                {
                                    "0": "IN",
                                    "1": "Indiana"
                                },
                                {
                                    "0": "IA",
                                    "1": "Iowa"
                                },
                                {
                                    "0": "KS",
                                    "1": "Kansas"
                                },
                                {
                                    "0": "KY",
                                    "1": "Kentucky"
                                },
                                {
                                    "0": "LA",
                                    "1": "Louisiana"
                                },
                                {
                                    "0": "ME",
                                    "1": "Maine"
                                },
                                {
                                    "0": "MD",
                                    "1": "Maryland"
                                },
                                {
                                    "0": "MA",
                                    "1": "Massachusetts[E]"
                                },
                                {
                                    "0": "MI",
                                    "1": "Michigan"
                                },
                                {
                                    "0": "MN",
                                    "1": "Minnesota"
                                },
                                {
                                    "0": "MS",
                                    "1": "Mississippi"
                                },
                                {
                                    "0": "MO",
                                    "1": "Missouri"
                                },
                                {
                                    "0": "MT",
                                    "1": "Montana"
                                },
                                {
                                    "0": "NE",
                                    "1": "Nebraska"
                                },
                                {
                                    "0": "NV",
                                    "1": "Nevada"
                                },
                                {
                                    "0": "NH",
                                    "1": "New Hampshire"
                                },
                                {
                                    "0": "NJ",
                                    "1": "New Jersey"
                                },
                                {
                                    "0": "NM",
                                    "1": "New Mexico"
                                },
                                {
                                    "0": "NY",
                                    "1": "New York"
                                },
                                {
                                    "0": "NC",
                                    "1": "North Carolina"
                                },
                                {
                                    "0": "ND",
                                    "1": "North Dakota"
                                },
                                {
                                    "0": "OH",
                                    "1": "Ohio"
                                },
                                {
                                    "0": "OK",
                                    "1": "Oklahoma"
                                },
                                {
                                    "0": "OR",
                                    "1": "Oregon"
                                },
                                {
                                    "0": "PA",
                                    "1": "Pennsylvania"
                                },
                                {
                                    "0": "PR",
                                    "1": "Puerto Rico (US Territory)"
                                },
                                {
                                    "0": "RI",
                                    "1": "Rhode Island"
                                },
                                {
                                    "0": "SC",
                                    "1": "South Carolina"
                                },
                                {
                                    "0": "SD",
                                    "1": "South Dakota"
                                },
                                {
                                    "0": "TN",
                                    "1": "Tennessee"
                                },
                                {
                                    "0": "TX",
                                    "1": "Texas"
                                },
                                {
                                    "0": "UT",
                                    "1": "Utah"
                                },
                                {
                                    "0": "VT",
                                    "1": "Vermont"
                                },
                                {
                                    "0": "VI",
                                    "1": "Virgin Islands (US Territory)"
                                },
                                {
                                    "0": "VA",
                                    "1": "Virginia"
                                },
                                {
                                    "0": "WA",
                                    "1": "Washington"
                                },
                                {
                                    "0": "WV",
                                    "1": "West Virginia"
                                },
                                {
                                    "0": "WI",
                                    "1": "Wisconsin"
                                },
                                {
                                    "0": "WY",
                                    "1": "Wyoming"
                                }
                            ]
                        },
                        "text/html": [
                            "<table>",
                            "<tr><th>ST/NAME</th><th>StateProvinceName</th></tr>",
                            "<tr><td>AL</td><td>Alabama</td></tr>",
                            "<tr><td>AK</td><td>Alaska</td></tr>",
                            "<tr><td>AZ</td><td>Arizona</td></tr>",
                            "<tr><td>AR</td><td>Arkansas</td></tr>",
                            "<tr><td>CA</td><td>California</td></tr>",
                            "<tr><td>CO</td><td>Colorado</td></tr>",
                            "<tr><td>CT</td><td>Connecticut</td></tr>",
                            "<tr><td>DE</td><td>Delaware</td></tr>",
                            "<tr><td>DC</td><td>District of Columbia</td></tr>",
                            "<tr><td>FL</td><td>Florida</td></tr>",
                            "<tr><td>GA</td><td>Georgia</td></tr>",
                            "<tr><td>HI</td><td>Hawaii</td></tr>",
                            "<tr><td>ID</td><td>Idaho</td></tr>",
                            "<tr><td>IL</td><td>Illinois</td></tr>",
                            "<tr><td>IN</td><td>Indiana</td></tr>",
                            "<tr><td>IA</td><td>Iowa</td></tr>",
                            "<tr><td>KS</td><td>Kansas</td></tr>",
                            "<tr><td>KY</td><td>Kentucky</td></tr>",
                            "<tr><td>LA</td><td>Louisiana</td></tr>",
                            "<tr><td>ME</td><td>Maine</td></tr>",
                            "<tr><td>MD</td><td>Maryland</td></tr>",
                            "<tr><td>MA</td><td>Massachusetts[E]</td></tr>",
                            "<tr><td>MI</td><td>Michigan</td></tr>",
                            "<tr><td>MN</td><td>Minnesota</td></tr>",
                            "<tr><td>MS</td><td>Mississippi</td></tr>",
                            "<tr><td>MO</td><td>Missouri</td></tr>",
                            "<tr><td>MT</td><td>Montana</td></tr>",
                            "<tr><td>NE</td><td>Nebraska</td></tr>",
                            "<tr><td>NV</td><td>Nevada</td></tr>",
                            "<tr><td>NH</td><td>New Hampshire</td></tr>",
                            "<tr><td>NJ</td><td>New Jersey</td></tr>",
                            "<tr><td>NM</td><td>New Mexico</td></tr>",
                            "<tr><td>NY</td><td>New York</td></tr>",
                            "<tr><td>NC</td><td>North Carolina</td></tr>",
                            "<tr><td>ND</td><td>North Dakota</td></tr>",
                            "<tr><td>OH</td><td>Ohio</td></tr>",
                            "<tr><td>OK</td><td>Oklahoma</td></tr>",
                            "<tr><td>OR</td><td>Oregon</td></tr>",
                            "<tr><td>PA</td><td>Pennsylvania</td></tr>",
                            "<tr><td>PR</td><td>Puerto Rico (US Territory)</td></tr>",
                            "<tr><td>RI</td><td>Rhode Island</td></tr>",
                            "<tr><td>SC</td><td>South Carolina</td></tr>",
                            "<tr><td>SD</td><td>South Dakota</td></tr>",
                            "<tr><td>TN</td><td>Tennessee</td></tr>",
                            "<tr><td>TX</td><td>Texas</td></tr>",
                            "<tr><td>UT</td><td>Utah</td></tr>",
                            "<tr><td>VT</td><td>Vermont</td></tr>",
                            "<tr><td>VI</td><td>Virgin Islands (US Territory)</td></tr>",
                            "<tr><td>VA</td><td>Virginia</td></tr>",
                            "<tr><td>WA</td><td>Washington</td></tr>",
                            "<tr><td>WV</td><td>West Virginia</td></tr>",
                            "<tr><td>WI</td><td>Wisconsin</td></tr>",
                            "<tr><td>WY</td><td>Wyoming</td></tr>",
                            "</table>"
                        ]
                    }
                }
            ],
            "execution_count": 6
        },
        {
            "cell_type": "markdown",
            "source": [
                "#5"
            ],
            "metadata": {
                "azdata_cell_guid": "cb310dbb-cad6-44d3-b1a6-1636d22ea609"
            }
        },
        {
            "cell_type": "code",
            "source": [
                "-- Select rows from a Table or View '[appl]' in schema '[dbo]'\n",
                "SELECT 'Application.StateProvinces' AS [table]\n",
                "GO"
            ],
            "metadata": {
                "azdata_cell_guid": "21586dfc-84a9-41e6-9764-87dfe24d8a69"
            },
            "outputs": [
{
    "output_type": "display_data",
    "data": {
        "text/html": "(1 row affected)"
    },
    "metadata": {}
}, {
    "output_type": "display_data",
    "data": {
        "text/html": "Total execution time: 00:00:00.007"
    },
    "metadata": {}
}, {
    "output_type": "execute_result",
    "metadata": {},
    "execution_count": 10,
    "data": {
        "application/vnd.dataresource+json": {
            "schema": {
                "fields": [
                    {
                        "name": "table"
                    }
                ]
            },
            "data": [
                {
                    "0": "Application.StateProvinces"
                }
            ]
        },
        "text/html": [
            "<table>",
            "<tr><th>table</th></tr>",
            "<tr><td>Application.StateProvinces</td></tr>",
            "</table>"
        ]
    }
}
],
            "execution_count": null
        }
    ]
}