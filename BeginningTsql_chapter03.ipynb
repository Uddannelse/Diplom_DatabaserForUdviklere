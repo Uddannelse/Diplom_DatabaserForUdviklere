{
    "metadata": {
        "kernelspec": {
            "name": "SQL",
            "display_name": "SQL",
            "language": "sql"
        },
        "language_info": {
            "name": "sql",
            "version": ""
        }
    },
    "nbformat_minor": 2,
    "nbformat": 4,
    "cells": [
        {
            "cell_type": "markdown",
            "source": [
                "Exercise 3-1"
            ],
            "metadata": {
                "azdata_cell_guid": "7aa9c29e-d9d9-4236-bf57-ae54b521139a"
            }
        },
        {
            "cell_type": "markdown",
            "source": [
                "04"
            ],
            "metadata": {
                "azdata_cell_guid": "bf870693-99c5-4688-89a7-b4967082debb"
            }
        },
        {
            "cell_type": "code",
            "source": [
                "-- Select rows from a Table or View '[Appl]' in schema '[dbo]'\r\n",
                "SELECT StateProvinceCode AS 'ST/NAME'\r\n",
                ", StateProvinceName\r\n",
                "FROM [Application].StateProvinces\r\n",
                "\r\n",
                "GO"
            ],
            "metadata": {
                "azdata_cell_guid": "9bc1277a-bb8b-41b1-bb4a-a490292c5104"
            },
            "outputs": [
                {
                    "output_type": "display_data",
                    "data": {
                        "text/html": "(53 rows affected)"
                    },
                    "metadata": {}
                },
                {
                    "output_type": "display_data",
                    "data": {
                        "text/html": "Total execution time: 00:00:00.004"
                    },
                    "metadata": {}
                },
                {
                    "output_type": "execute_result",
                    "metadata": {},
                    "execution_count": 6,
                    "data": {
                        "application/vnd.dataresource+json": {
                            "schema": {
                                "fields": [
                                    {
                                        "name": "ST/NAME"
                                    },
                                    {
                                        "name": "StateProvinceName"
                                    }
                                ]
                            },
                            "data": [
                                {
                                    "0": "AL",
                                    "1": "Alabama"
                                },
                                {
                                    "0": "AK",
                                    "1": "Alaska"
                                },
                                {
                                    "0": "AZ",
                                    "1": "Arizona"
                                },
                                {
                                    "0": "AR",
                                    "1": "Arkansas"
                                },
                                {
                                    "0": "CA",
                                    "1": "California"
                                },
                                {
                                    "0": "CO",
                                    "1": "Colorado"
                                },
                                {
                                    "0": "CT",
                                    "1": "Connecticut"
                                },
                                {
                                    "0": "DE",
                                    "1": "Delaware"
                                },
                                {
                                    "0": "DC",
                                    "1": "District of Columbia"
                                },
                                {
                                    "0": "FL",
                                    "1": "Florida"
                                },
                                {
                                    "0": "GA",
                                    "1": "Georgia"
                                },
                                {
                                    "0": "HI",
                                    "1": "Hawaii"
                                },
                                {
                                    "0": "ID",
                                    "1": "Idaho"
                                },
                                {
                                    "0": "IL",
                                    "1": "Illinois"
                                },
                                {
                                    "0": "IN",
                                    "1": "Indiana"
                                },
                                {
                                    "0": "IA",
                                    "1": "Iowa"
                                },
                                {
                                    "0": "KS",
                                    "1": "Kansas"
                                },
                                {
                                    "0": "KY",
                                    "1": "Kentucky"
                                },
                                {
                                    "0": "LA",
                                    "1": "Louisiana"
                                },
                                {
                                    "0": "ME",
                                    "1": "Maine"
                                },
                                {
                                    "0": "MD",
                                    "1": "Maryland"
                                },
                                {
                                    "0": "MA",
                                    "1": "Massachusetts[E]"
                                },
                                {
                                    "0": "MI",
                                    "1": "Michigan"
                                },
                                {
                                    "0": "MN",
                                    "1": "Minnesota"
                                },
                                {
                                    "0": "MS",
                                    "1": "Mississippi"
                                },
                                {
                                    "0": "MO",
                                    "1": "Missouri"
                                },
                                {
                                    "0": "MT",
                                    "1": "Montana"
                                },
                                {
                                    "0": "NE",
                                    "1": "Nebraska"
                                },
                                {
                                    "0": "NV",
                                    "1": "Nevada"
                                },
                                {
                                    "0": "NH",
                                    "1": "New Hampshire"
                                },
                                {
                                    "0": "NJ",
                                    "1": "New Jersey"
                                },
                                {
                                    "0": "NM",
                                    "1": "New Mexico"
                                },
                                {
                                    "0": "NY",
                                    "1": "New York"
                                },
                                {
                                    "0": "NC",
                                    "1": "North Carolina"
                                },
                                {
                                    "0": "ND",
                                    "1": "North Dakota"
                                },
                                {
                                    "0": "OH",
                                    "1": "Ohio"
                                },
                                {
                                    "0": "OK",
                                    "1": "Oklahoma"
                                },
                                {
                                    "0": "OR",
                                    "1": "Oregon"
                                },
                                {
                                    "0": "PA",
                                    "1": "Pennsylvania"
                                },
                                {
                                    "0": "PR",
                                    "1": "Puerto Rico (US Territory)"
                                },
                                {
                                    "0": "RI",
                                    "1": "Rhode Island"
                                },
                                {
                                    "0": "SC",
                                    "1": "South Carolina"
                                },
                                {
                                    "0": "SD",
                                    "1": "South Dakota"
                                },
                                {
                                    "0": "TN",
                                    "1": "Tennessee"
                                },
                                {
                                    "0": "TX",
                                    "1": "Texas"
                                },
                                {
                                    "0": "UT",
                                    "1": "Utah"
                                },
                                {
                                    "0": "VT",
                                    "1": "Vermont"
                                },
                                {
                                    "0": "VI",
                                    "1": "Virgin Islands (US Territory)"
                                },
                                {
                                    "0": "VA",
                                    "1": "Virginia"
                                },
                                {
                                    "0": "WA",
                                    "1": "Washington"
                                },
                                {
                                    "0": "WV",
                                    "1": "West Virginia"
                                },
                                {
                                    "0": "WI",
                                    "1": "Wisconsin"
                                },
                                {
                                    "0": "WY",
                                    "1": "Wyoming"
                                }
                            ]
                        },
                        "text/html": [
                            "<table>",
                            "<tr><th>ST/NAME</th><th>StateProvinceName</th></tr>",
                            "<tr><td>AL</td><td>Alabama</td></tr>",
                            "<tr><td>AK</td><td>Alaska</td></tr>",
                            "<tr><td>AZ</td><td>Arizona</td></tr>",
                            "<tr><td>AR</td><td>Arkansas</td></tr>",
                            "<tr><td>CA</td><td>California</td></tr>",
                            "<tr><td>CO</td><td>Colorado</td></tr>",
                            "<tr><td>CT</td><td>Connecticut</td></tr>",
                            "<tr><td>DE</td><td>Delaware</td></tr>",
                            "<tr><td>DC</td><td>District of Columbia</td></tr>",
                            "<tr><td>FL</td><td>Florida</td></tr>",
                            "<tr><td>GA</td><td>Georgia</td></tr>",
                            "<tr><td>HI</td><td>Hawaii</td></tr>",
                            "<tr><td>ID</td><td>Idaho</td></tr>",
                            "<tr><td>IL</td><td>Illinois</td></tr>",
                            "<tr><td>IN</td><td>Indiana</td></tr>",
                            "<tr><td>IA</td><td>Iowa</td></tr>",
                            "<tr><td>KS</td><td>Kansas</td></tr>",
                            "<tr><td>KY</td><td>Kentucky</td></tr>",
                            "<tr><td>LA</td><td>Louisiana</td></tr>",
                            "<tr><td>ME</td><td>Maine</td></tr>",
                            "<tr><td>MD</td><td>Maryland</td></tr>",
                            "<tr><td>MA</td><td>Massachusetts[E]</td></tr>",
                            "<tr><td>MI</td><td>Michigan</td></tr>",
                            "<tr><td>MN</td><td>Minnesota</td></tr>",
                            "<tr><td>MS</td><td>Mississippi</td></tr>",
                            "<tr><td>MO</td><td>Missouri</td></tr>",
                            "<tr><td>MT</td><td>Montana</td></tr>",
                            "<tr><td>NE</td><td>Nebraska</td></tr>",
                            "<tr><td>NV</td><td>Nevada</td></tr>",
                            "<tr><td>NH</td><td>New Hampshire</td></tr>",
                            "<tr><td>NJ</td><td>New Jersey</td></tr>",
                            "<tr><td>NM</td><td>New Mexico</td></tr>",
                            "<tr><td>NY</td><td>New York</td></tr>",
                            "<tr><td>NC</td><td>North Carolina</td></tr>",
                            "<tr><td>ND</td><td>North Dakota</td></tr>",
                            "<tr><td>OH</td><td>Ohio</td></tr>",
                            "<tr><td>OK</td><td>Oklahoma</td></tr>",
                            "<tr><td>OR</td><td>Oregon</td></tr>",
                            "<tr><td>PA</td><td>Pennsylvania</td></tr>",
                            "<tr><td>PR</td><td>Puerto Rico (US Territory)</td></tr>",
                            "<tr><td>RI</td><td>Rhode Island</td></tr>",
                            "<tr><td>SC</td><td>South Carolina</td></tr>",
                            "<tr><td>SD</td><td>South Dakota</td></tr>",
                            "<tr><td>TN</td><td>Tennessee</td></tr>",
                            "<tr><td>TX</td><td>Texas</td></tr>",
                            "<tr><td>UT</td><td>Utah</td></tr>",
                            "<tr><td>VT</td><td>Vermont</td></tr>",
                            "<tr><td>VI</td><td>Virgin Islands (US Territory)</td></tr>",
                            "<tr><td>VA</td><td>Virginia</td></tr>",
                            "<tr><td>WA</td><td>Washington</td></tr>",
                            "<tr><td>WV</td><td>West Virginia</td></tr>",
                            "<tr><td>WI</td><td>Wisconsin</td></tr>",
                            "<tr><td>WY</td><td>Wyoming</td></tr>",
                            "</table>"
                        ]
                    }
                }
            ],
            "execution_count": 6
        },
        {
            "cell_type": "markdown",
            "source": [
                "05"
            ],
            "metadata": {
                "azdata_cell_guid": "cb310dbb-cad6-44d3-b1a6-1636d22ea609"
            }
        },
        {
            "cell_type": "code",
            "source": [
                "-- Select rows from a Table or View '[appl]' in schema '[dbo]'\r\n",
                "SELECT 'Application.StateProvinces' AS [table]\r\n",
                "GO"
            ],
            "metadata": {
                "azdata_cell_guid": "21586dfc-84a9-41e6-9764-87dfe24d8a69"
            },
            "outputs": [
                {
                    "output_type": "display_data",
                    "data": {
                        "text/html": "(1 row affected)"
                    },
                    "metadata": {}
                },
                {
                    "output_type": "display_data",
                    "data": {
                        "text/html": "Total execution time: 00:00:00.007"
                    },
                    "metadata": {}
                },
                {
                    "output_type": "execute_result",
                    "metadata": {},
                    "execution_count": 10,
                    "data": {
                        "application/vnd.dataresource+json": {
                            "schema": {
                                "fields": [
                                    {
                                        "name": "table"
                                    }
                                ]
                            },
                            "data": [
                                {
                                    "0": "Application.StateProvinces"
                                }
                            ]
                        },
                        "text/html": [
                            "<table>",
                            "<tr><th>table</th></tr>",
                            "<tr><td>Application.StateProvinces</td></tr>",
                            "</table>"
                        ]
                    }
                }
            ],
            "execution_count": 10
        },
        {
            "cell_type": "markdown",
            "source": [
                "Exercise 3-2"
            ],
            "metadata": {
                "azdata_cell_guid": "7b27ee9f-12a5-4dcf-99c4-74d7e5be1a1a"
            }
        },
        {
            "cell_type": "markdown",
            "source": [
                "01"
            ],
            "metadata": {
                "azdata_cell_guid": "d947e3cd-6752-4dfa-9ca8-2629babbb465"
            }
        },
        {
            "cell_type": "code",
            "source": [
                "-- Select rows from a Table or Humanre' in schema '[dbo]'\r\n",
                "USE AdventureWorks2019\r\n",
                "GO\r\n",
                "SELECT BusinessEntityID\r\n",
                ",LoginID\r\n",
                ",JobTitle\r\n",
                "FROM HumanResources.Employee\r\n",
                "WHERE JobTitle = 'Research and Development Engineer'\r\n",
                "GO"
            ],
            "metadata": {
                "azdata_cell_guid": "4a613f40-a204-492f-bf70-d1d6b77d019e"
            },
            "outputs": [
                {
                    "output_type": "display_data",
                    "data": {
                        "text/html": "Commands completed successfully."
                    },
                    "metadata": {}
                },
                {
                    "output_type": "display_data",
                    "data": {
                        "text/html": "(2 rows affected)"
                    },
                    "metadata": {}
                },
                {
                    "output_type": "display_data",
                    "data": {
                        "text/html": "Total execution time: 00:00:00.005"
                    },
                    "metadata": {}
                },
                {
                    "output_type": "execute_result",
                    "metadata": {},
                    "execution_count": 12,
                    "data": {
                        "application/vnd.dataresource+json": {
                            "schema": {
                                "fields": [
                                    {
                                        "name": "BusinessEntityID"
                                    },
                                    {
                                        "name": "LoginID"
                                    },
                                    {
                                        "name": "JobTitle"
                                    }
                                ]
                            },
                            "data": [
                                {
                                    "0": "8",
                                    "1": "adventure-works\\diane1",
                                    "2": "Research and Development Engineer"
                                },
                                {
                                    "0": "9",
                                    "1": "adventure-works\\gigi0",
                                    "2": "Research and Development Engineer"
                                }
                            ]
                        },
                        "text/html": [
                            "<table>",
                            "<tr><th>BusinessEntityID</th><th>LoginID</th><th>JobTitle</th></tr>",
                            "<tr><td>8</td><td>adventure-works\\diane1</td><td>Research and Development Engineer</td></tr>",
                            "<tr><td>9</td><td>adventure-works\\gigi0</td><td>Research and Development Engineer</td></tr>",
                            "</table>"
                        ]
                    }
                }
            ],
            "execution_count": 12
        },
        {
            "cell_type": "markdown",
            "source": [
                "02"
            ],
            "metadata": {
                "azdata_cell_guid": "78b34dd3-1c57-49c9-93a5-089d12438cf2"
            }
        },
        {
            "cell_type": "code",
            "source": [
                "USE AdventureWorks2019\r\n",
                "GO\r\n",
                "-- Select rows from a Table or V '[TableOrViewName]' in schema '[dbo]'\r\n",
                "SELECT * FROM [Production].ProductCostHistory\r\n",
                "WHERE StandardCost BETWEEN 10 AND 13\r\n",
                "ORDER BY StandardCost\r\n",
                "GO"
            ],
            "metadata": {
                "azdata_cell_guid": "2f491379-2762-4666-8057-9b4675073d5d"
            },
            "outputs": [
                {
                    "output_type": "display_data",
                    "data": {
                        "text/html": "Commands completed successfully."
                    },
                    "metadata": {}
                },
                {
                    "output_type": "display_data",
                    "data": {
                        "text/html": "(11 rows affected)"
                    },
                    "metadata": {}
                },
                {
                    "output_type": "display_data",
                    "data": {
                        "text/html": "Total execution time: 00:00:00.014"
                    },
                    "metadata": {}
                },
                {
                    "output_type": "execute_result",
                    "metadata": {},
                    "execution_count": 14,
                    "data": {
                        "application/vnd.dataresource+json": {
                            "schema": {
                                "fields": [
                                    {
                                        "name": "ProductID"
                                    },
                                    {
                                        "name": "StartDate"
                                    },
                                    {
                                        "name": "EndDate"
                                    },
                                    {
                                        "name": "StandardCost"
                                    },
                                    {
                                        "name": "ModifiedDate"
                                    }
                                ]
                            },
                            "data": [
                                {
                                    "0": "845",
                                    "1": "2012-05-30 00:00:00.000",
                                    "2": "2013-05-29 00:00:00.000",
                                    "3": "10,3084",
                                    "4": "2013-05-29 00:00:00.000"
                                },
                                {
                                    "0": "843",
                                    "1": "2012-05-30 00:00:00.000",
                                    "2": "2013-05-29 00:00:00.000",
                                    "3": "10,3125",
                                    "4": "2013-05-29 00:00:00.000"
                                },
                                {
                                    "0": "934",
                                    "1": "2013-05-30 00:00:00.000",
                                    "2": "NULL",
                                    "3": "10,8423",
                                    "4": "2013-05-16 00:00:00.000"
                                },
                                {
                                    "0": "929",
                                    "1": "2013-05-30 00:00:00.000",
                                    "2": "NULL",
                                    "3": "11,2163",
                                    "4": "2013-05-16 00:00:00.000"
                                },
                                {
                                    "0": "707",
                                    "1": "2011-05-31 00:00:00.000",
                                    "2": "2012-05-29 00:00:00.000",
                                    "3": "12,0278",
                                    "4": "2012-05-29 00:00:00.000"
                                },
                                {
                                    "0": "708",
                                    "1": "2011-05-31 00:00:00.000",
                                    "2": "2012-05-29 00:00:00.000",
                                    "3": "12,0278",
                                    "4": "2012-05-29 00:00:00.000"
                                },
                                {
                                    "0": "711",
                                    "1": "2011-05-31 00:00:00.000",
                                    "2": "2012-05-29 00:00:00.000",
                                    "3": "12,0278",
                                    "4": "2012-05-29 00:00:00.000"
                                },
                                {
                                    "0": "908",
                                    "1": "2013-05-30 00:00:00.000",
                                    "2": "NULL",
                                    "3": "12,0413",
                                    "4": "2013-05-16 00:00:00.000"
                                },
                                {
                                    "0": "911",
                                    "1": "2013-05-30 00:00:00.000",
                                    "2": "NULL",
                                    "3": "12,0413",
                                    "4": "2013-05-16 00:00:00.000"
                                },
                                {
                                    "0": "914",
                                    "1": "2013-05-30 00:00:00.000",
                                    "2": "NULL",
                                    "3": "12,0413",
                                    "4": "2013-05-16 00:00:00.000"
                                },
                                {
                                    "0": "933",
                                    "1": "2013-05-30 00:00:00.000",
                                    "2": "NULL",
                                    "3": "12,1924",
                                    "4": "2013-05-16 00:00:00.000"
                                }
                            ]
                        },
                        "text/html": [
                            "<table>",
                            "<tr><th>ProductID</th><th>StartDate</th><th>EndDate</th><th>StandardCost</th><th>ModifiedDate</th></tr>",
                            "<tr><td>845</td><td>2012-05-30 00:00:00.000</td><td>2013-05-29 00:00:00.000</td><td>10,3084</td><td>2013-05-29 00:00:00.000</td></tr>",
                            "<tr><td>843</td><td>2012-05-30 00:00:00.000</td><td>2013-05-29 00:00:00.000</td><td>10,3125</td><td>2013-05-29 00:00:00.000</td></tr>",
                            "<tr><td>934</td><td>2013-05-30 00:00:00.000</td><td>NULL</td><td>10,8423</td><td>2013-05-16 00:00:00.000</td></tr>",
                            "<tr><td>929</td><td>2013-05-30 00:00:00.000</td><td>NULL</td><td>11,2163</td><td>2013-05-16 00:00:00.000</td></tr>",
                            "<tr><td>707</td><td>2011-05-31 00:00:00.000</td><td>2012-05-29 00:00:00.000</td><td>12,0278</td><td>2012-05-29 00:00:00.000</td></tr>",
                            "<tr><td>708</td><td>2011-05-31 00:00:00.000</td><td>2012-05-29 00:00:00.000</td><td>12,0278</td><td>2012-05-29 00:00:00.000</td></tr>",
                            "<tr><td>711</td><td>2011-05-31 00:00:00.000</td><td>2012-05-29 00:00:00.000</td><td>12,0278</td><td>2012-05-29 00:00:00.000</td></tr>",
                            "<tr><td>908</td><td>2013-05-30 00:00:00.000</td><td>NULL</td><td>12,0413</td><td>2013-05-16 00:00:00.000</td></tr>",
                            "<tr><td>911</td><td>2013-05-30 00:00:00.000</td><td>NULL</td><td>12,0413</td><td>2013-05-16 00:00:00.000</td></tr>",
                            "<tr><td>914</td><td>2013-05-30 00:00:00.000</td><td>NULL</td><td>12,0413</td><td>2013-05-16 00:00:00.000</td></tr>",
                            "<tr><td>933</td><td>2013-05-30 00:00:00.000</td><td>NULL</td><td>12,1924</td><td>2013-05-16 00:00:00.000</td></tr>",
                            "</table>"
                        ]
                    }
                }
            ],
            "execution_count": 14
        },
        {
            "cell_type": "markdown",
            "source": [
                "Exercise 3-3"
            ],
            "metadata": {
                "azdata_cell_guid": "5e0014fc-b8d7-4bdd-970e-50ce3e3ca7dc"
            }
        },
        {
            "cell_type": "markdown",
            "source": [
                "01"
            ],
            "metadata": {
                "azdata_cell_guid": "6a4ef663-e1fa-4f75-a74d-5c95a877ddd5"
            }
        },
        {
            "cell_type": "code",
            "source": [
                "-- Select rows from a Table or View '[TableOrViewName]' in schema '[dbo]'\n",
                "USE AdventureWorks2019\n",
                "GO\n",
                "SELECT SalesOrderID\n",
                ",OrderDate\n",
                ",TotalDue \n",
                "FROM Sales.SalesOrderHeader\n",
                "WHERE OrderDate >= '2012-09-01' AND OrderDate < '2012-10-01'\n",
                "GO"
            ],
            "metadata": {
                "azdata_cell_guid": "e4d7fa75-d87a-4ebc-9910-3429e10e914a"
            },
            "outputs": [
{
    "output_type": "display_data",
    "data": {
        "text/html": "Commands completed successfully."
    },
    "metadata": {}
}, {
    "output_type": "display_data",
    "data": {
        "text/html": "(352 rows affected)"
    },
    "metadata": {}
}, {
    "output_type": "display_data",
    "data": {
        "text/html": "Total execution time: 00:00:00.056"
    },
    "metadata": {}
}, {
    "output_type": "execute_result",
    "metadata": {},
    "execution_count": 15,
    "data": {
        "application/vnd.dataresource+json": {
            "schema": {
                "fields": [
                    {
                        "name": "SalesOrderID"
                    },
                    {
                        "name": "OrderDate"
                    },
                    {
                        "name": "TotalDue"
                    }
                ]
            },
            "data": [
                {
                    "0": "47747",
                    "1": "2012-09-01 00:00:00.000",
                    "2": "2410,6266"
                },
                {
                    "0": "47748",
                    "1": "2012-09-01 00:00:00.000",
                    "2": "2288,9187"
                },
                {
                    "0": "47749",
                    "1": "2012-09-01 00:00:00.000",
                    "2": "2410,6266"
                },
                {
                    "0": "47750",
                    "1": "2012-09-01 00:00:00.000",
                    "2": "2699,9018"
                },
                {
                    "0": "47751",
                    "1": "2012-09-01 00:00:00.000",
                    "2": "2699,9018"
                },
                {
                    "0": "47752",
                    "1": "2012-09-01 00:00:00.000",
                    "2": "2410,6266"
                },
                {
                    "0": "47753",
                    "1": "2012-09-01 00:00:00.000",
                    "2": "2264,2536"
                },
                {
                    "0": "47754",
                    "1": "2012-09-02 00:00:00.000",
                    "2": "1105,4834"
                },
                {
                    "0": "47755",
                    "1": "2012-09-02 00:00:00.000",
                    "2": "1105,4834"
                },
                {
                    "0": "47756",
                    "1": "2012-09-02 00:00:00.000",
                    "2": "2288,9187"
                },
                {
                    "0": "47757",
                    "1": "2012-09-02 00:00:00.000",
                    "2": "2410,6266"
                },
                {
                    "0": "47758",
                    "1": "2012-09-02 00:00:00.000",
                    "2": "2410,6266"
                },
                {
                    "0": "47759",
                    "1": "2012-09-02 00:00:00.000",
                    "2": "2410,6266"
                },
                {
                    "0": "47760",
                    "1": "2012-09-02 00:00:00.000",
                    "2": "2410,6266"
                },
                {
                    "0": "47761",
                    "1": "2012-09-03 00:00:00.000",
                    "2": "865,2040"
                },
                {
                    "0": "47762",
                    "1": "2012-09-03 00:00:00.000",
                    "2": "2288,9187"
                },
                {
                    "0": "47763",
                    "1": "2012-09-03 00:00:00.000",
                    "2": "2410,6266"
                },
                {
                    "0": "47764",
                    "1": "2012-09-04 00:00:00.000",
                    "2": "2288,9187"
                },
                {
                    "0": "47765",
                    "1": "2012-09-04 00:00:00.000",
                    "2": "2264,2536"
                },
                {
                    "0": "47766",
                    "1": "2012-09-04 00:00:00.000",
                    "2": "2264,2536"
                },
                {
                    "0": "47767",
                    "1": "2012-09-04 00:00:00.000",
                    "2": "1105,4834"
                },
                {
                    "0": "47768",
                    "1": "2012-09-04 00:00:00.000",
                    "2": "2410,6266"
                },
                {
                    "0": "47769",
                    "1": "2012-09-04 00:00:00.000",
                    "2": "2264,2536"
                },
                {
                    "0": "47770",
                    "1": "2012-09-04 00:00:00.000",
                    "2": "865,2040"
                },
                {
                    "0": "47771",
                    "1": "2012-09-05 00:00:00.000",
                    "2": "2410,6266"
                },
                {
                    "0": "47772",
                    "1": "2012-09-05 00:00:00.000",
                    "2": "2699,9018"
                },
                {
                    "0": "47773",
                    "1": "2012-09-05 00:00:00.000",
                    "2": "865,2040"
                },
                {
                    "0": "47774",
                    "1": "2012-09-05 00:00:00.000",
                    "2": "865,2040"
                },
                {
                    "0": "47775",
                    "1": "2012-09-05 00:00:00.000",
                    "2": "2699,9018"
                },
                {
                    "0": "47776",
                    "1": "2012-09-05 00:00:00.000",
                    "2": "2288,9187"
                },
                {
                    "0": "47777",
                    "1": "2012-09-05 00:00:00.000",
                    "2": "865,2040"
                },
                {
                    "0": "47778",
                    "1": "2012-09-06 00:00:00.000",
                    "2": "2288,9187"
                },
                {
                    "0": "47779",
                    "1": "2012-09-06 00:00:00.000",
                    "2": "2410,6266"
                },
                {
                    "0": "47780",
                    "1": "2012-09-06 00:00:00.000",
                    "2": "1105,4834"
                },
                {
                    "0": "47781",
                    "1": "2012-09-06 00:00:00.000",
                    "2": "2410,6266"
                },
                {
                    "0": "47782",
                    "1": "2012-09-06 00:00:00.000",
                    "2": "2410,6266"
                },
                {
                    "0": "47783",
                    "1": "2012-09-06 00:00:00.000",
                    "2": "2410,6266"
                },
                {
                    "0": "47784",
                    "1": "2012-09-06 00:00:00.000",
                    "2": "2288,9187"
                },
                {
                    "0": "47785",
                    "1": "2012-09-07 00:00:00.000",
                    "2": "2288,9187"
                },
                {
                    "0": "47786",
                    "1": "2012-09-07 00:00:00.000",
                    "2": "2699,9018"
                },
                {
                    "0": "47787",
                    "1": "2012-09-07 00:00:00.000",
                    "2": "2699,9018"
                },
                {
                    "0": "47788",
                    "1": "2012-09-08 00:00:00.000",
                    "2": "2410,6266"
                },
                {
                    "0": "47789",
                    "1": "2012-09-08 00:00:00.000",
                    "2": "2410,6266"
                },
                {
                    "0": "47790",
                    "1": "2012-09-08 00:00:00.000",
                    "2": "2410,6266"
                },
                {
                    "0": "47791",
                    "1": "2012-09-08 00:00:00.000",
                    "2": "2264,2536"
                },
                {
                    "0": "47792",
                    "1": "2012-09-09 00:00:00.000",
                    "2": "2699,9018"
                },
                {
                    "0": "47793",
                    "1": "2012-09-09 00:00:00.000",
                    "2": "2699,9018"
                },
                {
                    "0": "47794",
                    "1": "2012-09-09 00:00:00.000",
                    "2": "2288,9187"
                },
                {
                    "0": "47795",
                    "1": "2012-09-09 00:00:00.000",
                    "2": "2410,6266"
                },
                {
                    "0": "47796",
                    "1": "2012-09-09 00:00:00.000",
                    "2": "2410,6266"
                },
                {
                    "0": "47797",
                    "1": "2012-09-09 00:00:00.000",
                    "2": "2410,6266"
                },
                {
                    "0": "47798",
                    "1": "2012-09-09 00:00:00.000",
                    "2": "2288,9187"
                },
                {
                    "0": "47799",
                    "1": "2012-09-10 00:00:00.000",
                    "2": "2264,2536"
                },
                {
                    "0": "47800",
                    "1": "2012-09-10 00:00:00.000",
                    "2": "2410,6266"
                },
                {
                    "0": "47801",
                    "1": "2012-09-10 00:00:00.000",
                    "2": "865,2040"
                },
                {
                    "0": "47802",
                    "1": "2012-09-10 00:00:00.000",
                    "2": "865,2040"
                },
                {
                    "0": "47803",
                    "1": "2012-09-10 00:00:00.000",
                    "2": "2410,6266"
                },
                {
                    "0": "47804",
                    "1": "2012-09-10 00:00:00.000",
                    "2": "2699,9018"
                },
                {
                    "0": "47805",
                    "1": "2012-09-10 00:00:00.000",
                    "2": "2410,6266"
                },
                {
                    "0": "47806",
                    "1": "2012-09-10 00:00:00.000",
                    "2": "865,2040"
                },
                {
                    "0": "47807",
                    "1": "2012-09-10 00:00:00.000",
                    "2": "2410,6266"
                },
                {
                    "0": "47808",
                    "1": "2012-09-10 00:00:00.000",
                    "2": "865,2040"
                },
                {
                    "0": "47809",
                    "1": "2012-09-10 00:00:00.000",
                    "2": "865,2040"
                },
                {
                    "0": "47810",
                    "1": "2012-09-10 00:00:00.000",
                    "2": "865,2040"
                },
                {
                    "0": "47811",
                    "1": "2012-09-11 00:00:00.000",
                    "2": "2288,9187"
                },
                {
                    "0": "47812",
                    "1": "2012-09-11 00:00:00.000",
                    "2": "2410,6266"
                },
                {
                    "0": "47813",
                    "1": "2012-09-11 00:00:00.000",
                    "2": "1105,4834"
                },
                {
                    "0": "47814",
                    "1": "2012-09-11 00:00:00.000",
                    "2": "2264,2536"
                },
                {
                    "0": "47815",
                    "1": "2012-09-11 00:00:00.000",
                    "2": "2410,6266"
                },
                {
                    "0": "47816",
                    "1": "2012-09-11 00:00:00.000",
                    "2": "2699,9018"
                },
                {
                    "0": "47817",
                    "1": "2012-09-11 00:00:00.000",
                    "2": "2410,6266"
                },
                {
                    "0": "47818",
                    "1": "2012-09-11 00:00:00.000",
                    "2": "865,2040"
                },
                {
                    "0": "47819",
                    "1": "2012-09-11 00:00:00.000",
                    "2": "2410,6266"
                },
                {
                    "0": "47820",
                    "1": "2012-09-11 00:00:00.000",
                    "2": "2288,9187"
                },
                {
                    "0": "47821",
                    "1": "2012-09-11 00:00:00.000",
                    "2": "2288,9187"
                },
                {
                    "0": "47822",
                    "1": "2012-09-11 00:00:00.000",
                    "2": "2288,9187"
                },
                {
                    "0": "47823",
                    "1": "2012-09-11 00:00:00.000",
                    "2": "865,2040"
                },
                {
                    "0": "47824",
                    "1": "2012-09-12 00:00:00.000",
                    "2": "2699,9018"
                },
                {
                    "0": "47825",
                    "1": "2012-09-12 00:00:00.000",
                    "2": "865,2040"
                },
                {
                    "0": "47826",
                    "1": "2012-09-12 00:00:00.000",
                    "2": "2699,9018"
                },
                {
                    "0": "47827",
                    "1": "2012-09-12 00:00:00.000",
                    "2": "2699,9018"
                },
                {
                    "0": "47828",
                    "1": "2012-09-12 00:00:00.000",
                    "2": "2699,9018"
                },
                {
                    "0": "47829",
                    "1": "2012-09-12 00:00:00.000",
                    "2": "2288,9187"
                },
                {
                    "0": "47830",
                    "1": "2012-09-13 00:00:00.000",
                    "2": "1105,4834"
                },
                {
                    "0": "47831",
                    "1": "2012-09-13 00:00:00.000",
                    "2": "2264,2536"
                },
                {
                    "0": "47832",
                    "1": "2012-09-13 00:00:00.000",
                    "2": "2699,9018"
                },
                {
                    "0": "47833",
                    "1": "2012-09-13 00:00:00.000",
                    "2": "2410,6266"
                },
                {
                    "0": "47834",
                    "1": "2012-09-13 00:00:00.000",
                    "2": "2410,6266"
                },
                {
                    "0": "47835",
                    "1": "2012-09-13 00:00:00.000",
                    "2": "1105,4834"
                },
                {
                    "0": "47836",
                    "1": "2012-09-14 00:00:00.000",
                    "2": "2288,9187"
                },
                {
                    "0": "47837",
                    "1": "2012-09-14 00:00:00.000",
                    "2": "2288,9187"
                },
                {
                    "0": "47838",
                    "1": "2012-09-14 00:00:00.000",
                    "2": "2410,6266"
                },
                {
                    "0": "47839",
                    "1": "2012-09-14 00:00:00.000",
                    "2": "865,2040"
                },
                {
                    "0": "47840",
                    "1": "2012-09-14 00:00:00.000",
                    "2": "865,2040"
                },
                {
                    "0": "47841",
                    "1": "2012-09-14 00:00:00.000",
                    "2": "2264,2536"
                },
                {
                    "0": "47842",
                    "1": "2012-09-14 00:00:00.000",
                    "2": "865,2040"
                },
                {
                    "0": "47843",
                    "1": "2012-09-14 00:00:00.000",
                    "2": "865,2040"
                },
                {
                    "0": "47844",
                    "1": "2012-09-14 00:00:00.000",
                    "2": "2410,6266"
                },
                {
                    "0": "47845",
                    "1": "2012-09-15 00:00:00.000",
                    "2": "2699,9018"
                },
                {
                    "0": "47846",
                    "1": "2012-09-15 00:00:00.000",
                    "2": "2699,9018"
                },
                {
                    "0": "47847",
                    "1": "2012-09-15 00:00:00.000",
                    "2": "2699,9018"
                },
                {
                    "0": "47848",
                    "1": "2012-09-15 00:00:00.000",
                    "2": "2264,2536"
                },
                {
                    "0": "47849",
                    "1": "2012-09-15 00:00:00.000",
                    "2": "865,2040"
                },
                {
                    "0": "47850",
                    "1": "2012-09-15 00:00:00.000",
                    "2": "865,2040"
                },
                {
                    "0": "47851",
                    "1": "2012-09-16 00:00:00.000",
                    "2": "2264,2536"
                },
                {
                    "0": "47852",
                    "1": "2012-09-16 00:00:00.000",
                    "2": "2288,9187"
                },
                {
                    "0": "47853",
                    "1": "2012-09-16 00:00:00.000",
                    "2": "2264,2536"
                },
                {
                    "0": "47854",
                    "1": "2012-09-16 00:00:00.000",
                    "2": "865,2040"
                },
                {
                    "0": "47855",
                    "1": "2012-09-16 00:00:00.000",
                    "2": "2288,9187"
                },
                {
                    "0": "47856",
                    "1": "2012-09-16 00:00:00.000",
                    "2": "2264,2536"
                },
                {
                    "0": "47857",
                    "1": "2012-09-16 00:00:00.000",
                    "2": "2264,2536"
                },
                {
                    "0": "47858",
                    "1": "2012-09-17 00:00:00.000",
                    "2": "1105,4834"
                },
                {
                    "0": "47859",
                    "1": "2012-09-17 00:00:00.000",
                    "2": "2264,2536"
                },
                {
                    "0": "47860",
                    "1": "2012-09-17 00:00:00.000",
                    "2": "2288,9187"
                },
                {
                    "0": "47861",
                    "1": "2012-09-17 00:00:00.000",
                    "2": "2288,9187"
                },
                {
                    "0": "47862",
                    "1": "2012-09-17 00:00:00.000",
                    "2": "2410,6266"
                },
                {
                    "0": "47863",
                    "1": "2012-09-17 00:00:00.000",
                    "2": "865,2040"
                },
                {
                    "0": "47864",
                    "1": "2012-09-17 00:00:00.000",
                    "2": "2410,6266"
                },
                {
                    "0": "47865",
                    "1": "2012-09-17 00:00:00.000",
                    "2": "2288,9187"
                },
                {
                    "0": "47866",
                    "1": "2012-09-17 00:00:00.000",
                    "2": "2288,9187"
                },
                {
                    "0": "47867",
                    "1": "2012-09-17 00:00:00.000",
                    "2": "2264,2536"
                },
                {
                    "0": "47868",
                    "1": "2012-09-17 00:00:00.000",
                    "2": "2288,9187"
                },
                {
                    "0": "47869",
                    "1": "2012-09-17 00:00:00.000",
                    "2": "865,2040"
                },
                {
                    "0": "47870",
                    "1": "2012-09-18 00:00:00.000",
                    "2": "1105,4834"
                },
                {
                    "0": "47871",
                    "1": "2012-09-18 00:00:00.000",
                    "2": "2410,6266"
                },
                {
                    "0": "47872",
                    "1": "2012-09-18 00:00:00.000",
                    "2": "2410,6266"
                },
                {
                    "0": "47873",
                    "1": "2012-09-18 00:00:00.000",
                    "2": "1105,4834"
                },
                {
                    "0": "47874",
                    "1": "2012-09-18 00:00:00.000",
                    "2": "2410,6266"
                },
                {
                    "0": "47875",
                    "1": "2012-09-18 00:00:00.000",
                    "2": "2410,6266"
                },
                {
                    "0": "47876",
                    "1": "2012-09-18 00:00:00.000",
                    "2": "865,2040"
                },
                {
                    "0": "47877",
                    "1": "2012-09-18 00:00:00.000",
                    "2": "865,2040"
                },
                {
                    "0": "47878",
                    "1": "2012-09-18 00:00:00.000",
                    "2": "2264,2536"
                },
                {
                    "0": "47879",
                    "1": "2012-09-19 00:00:00.000",
                    "2": "1105,4834"
                },
                {
                    "0": "47880",
                    "1": "2012-09-19 00:00:00.000",
                    "2": "2264,2536"
                },
                {
                    "0": "47881",
                    "1": "2012-09-19 00:00:00.000",
                    "2": "2410,6266"
                },
                {
                    "0": "47882",
                    "1": "2012-09-19 00:00:00.000",
                    "2": "2410,6266"
                },
                {
                    "0": "47883",
                    "1": "2012-09-19 00:00:00.000",
                    "2": "2288,9187"
                },
                {
                    "0": "47884",
                    "1": "2012-09-19 00:00:00.000",
                    "2": "2699,9018"
                },
                {
                    "0": "47885",
                    "1": "2012-09-19 00:00:00.000",
                    "2": "1105,4834"
                },
                {
                    "0": "47886",
                    "1": "2012-09-19 00:00:00.000",
                    "2": "2264,2536"
                },
                {
                    "0": "47887",
                    "1": "2012-09-19 00:00:00.000",
                    "2": "2288,9187"
                },
                {
                    "0": "47888",
                    "1": "2012-09-19 00:00:00.000",
                    "2": "2288,9187"
                },
                {
                    "0": "47889",
                    "1": "2012-09-20 00:00:00.000",
                    "2": "2410,6266"
                },
                {
                    "0": "47890",
                    "1": "2012-09-20 00:00:00.000",
                    "2": "2699,9018"
                },
                {
                    "0": "47891",
                    "1": "2012-09-20 00:00:00.000",
                    "2": "2410,6266"
                },
                {
                    "0": "47892",
                    "1": "2012-09-20 00:00:00.000",
                    "2": "1105,4834"
                },
                {
                    "0": "47893",
                    "1": "2012-09-20 00:00:00.000",
                    "2": "2410,6266"
                },
                {
                    "0": "47894",
                    "1": "2012-09-20 00:00:00.000",
                    "2": "2264,2536"
                },
                {
                    "0": "47895",
                    "1": "2012-09-20 00:00:00.000",
                    "2": "865,2040"
                },
                {
                    "0": "47896",
                    "1": "2012-09-21 00:00:00.000",
                    "2": "1105,4834"
                },
                {
                    "0": "47897",
                    "1": "2012-09-21 00:00:00.000",
                    "2": "2410,6266"
                },
                {
                    "0": "47898",
                    "1": "2012-09-21 00:00:00.000",
                    "2": "865,2040"
                },
                {
                    "0": "47899",
                    "1": "2012-09-21 00:00:00.000",
                    "2": "2264,2536"
                },
                {
                    "0": "47900",
                    "1": "2012-09-21 00:00:00.000",
                    "2": "2264,2536"
                },
                {
                    "0": "47901",
                    "1": "2012-09-21 00:00:00.000",
                    "2": "2288,9187"
                },
                {
                    "0": "47902",
                    "1": "2012-09-21 00:00:00.000",
                    "2": "2264,2536"
                },
                {
                    "0": "47903",
                    "1": "2012-09-22 00:00:00.000",
                    "2": "2699,9018"
                },
                {
                    "0": "47904",
                    "1": "2012-09-22 00:00:00.000",
                    "2": "2410,6266"
                },
                {
                    "0": "47905",
                    "1": "2012-09-22 00:00:00.000",
                    "2": "2410,6266"
                },
                {
                    "0": "47906",
                    "1": "2012-09-22 00:00:00.000",
                    "2": "865,2040"
                },
                {
                    "0": "47907",
                    "1": "2012-09-22 00:00:00.000",
                    "2": "2699,9018"
                },
                {
                    "0": "47908",
                    "1": "2012-09-22 00:00:00.000",
                    "2": "2264,2536"
                },
                {
                    "0": "47909",
                    "1": "2012-09-22 00:00:00.000",
                    "2": "2288,9187"
                },
                {
                    "0": "47910",
                    "1": "2012-09-22 00:00:00.000",
                    "2": "2288,9187"
                },
                {
                    "0": "47911",
                    "1": "2012-09-22 00:00:00.000",
                    "2": "2264,2536"
                },
                {
                    "0": "47912",
                    "1": "2012-09-23 00:00:00.000",
                    "2": "2264,2536"
                },
                {
                    "0": "47913",
                    "1": "2012-09-23 00:00:00.000",
                    "2": "2699,9018"
                },
                {
                    "0": "47914",
                    "1": "2012-09-23 00:00:00.000",
                    "2": "865,2040"
                },
                {
                    "0": "47915",
                    "1": "2012-09-23 00:00:00.000",
                    "2": "2264,2536"
                },
                {
                    "0": "47916",
                    "1": "2012-09-23 00:00:00.000",
                    "2": "1105,4834"
                },
                {
                    "0": "47917",
                    "1": "2012-09-23 00:00:00.000",
                    "2": "2264,2536"
                },
                {
                    "0": "47918",
                    "1": "2012-09-23 00:00:00.000",
                    "2": "2264,2536"
                },
                {
                    "0": "47919",
                    "1": "2012-09-24 00:00:00.000",
                    "2": "1105,4834"
                },
                {
                    "0": "47920",
                    "1": "2012-09-24 00:00:00.000",
                    "2": "2264,2536"
                },
                {
                    "0": "47921",
                    "1": "2012-09-24 00:00:00.000",
                    "2": "2410,6266"
                },
                {
                    "0": "47922",
                    "1": "2012-09-24 00:00:00.000",
                    "2": "2410,6266"
                },
                {
                    "0": "47923",
                    "1": "2012-09-24 00:00:00.000",
                    "2": "2264,2536"
                },
                {
                    "0": "47924",
                    "1": "2012-09-24 00:00:00.000",
                    "2": "2410,6266"
                },
                {
                    "0": "47925",
                    "1": "2012-09-24 00:00:00.000",
                    "2": "1105,4834"
                },
                {
                    "0": "47926",
                    "1": "2012-09-24 00:00:00.000",
                    "2": "2264,2536"
                },
                {
                    "0": "47927",
                    "1": "2012-09-24 00:00:00.000",
                    "2": "865,2040"
                },
                {
                    "0": "47928",
                    "1": "2012-09-25 00:00:00.000",
                    "2": "2410,6266"
                },
                {
                    "0": "47929",
                    "1": "2012-09-25 00:00:00.000",
                    "2": "2699,9018"
                },
                {
                    "0": "47930",
                    "1": "2012-09-25 00:00:00.000",
                    "2": "2410,6266"
                },
                {
                    "0": "47931",
                    "1": "2012-09-26 00:00:00.000",
                    "2": "2699,9018"
                },
                {
                    "0": "47932",
                    "1": "2012-09-26 00:00:00.000",
                    "2": "2410,6266"
                },
                {
                    "0": "47933",
                    "1": "2012-09-26 00:00:00.000",
                    "2": "2410,6266"
                },
                {
                    "0": "47934",
                    "1": "2012-09-26 00:00:00.000",
                    "2": "1105,4834"
                },
                {
                    "0": "47935",
                    "1": "2012-09-26 00:00:00.000",
                    "2": "2410,6266"
                },
                {
                    "0": "47936",
                    "1": "2012-09-26 00:00:00.000",
                    "2": "865,2040"
                },
                {
                    "0": "47937",
                    "1": "2012-09-27 00:00:00.000",
                    "2": "865,2040"
                },
                {
                    "0": "47938",
                    "1": "2012-09-27 00:00:00.000",
                    "2": "2410,6266"
                },
                {
                    "0": "47939",
                    "1": "2012-09-27 00:00:00.000",
                    "2": "2410,6266"
                },
                {
                    "0": "47940",
                    "1": "2012-09-27 00:00:00.000",
                    "2": "2288,9187"
                },
                {
                    "0": "47941",
                    "1": "2012-09-27 00:00:00.000",
                    "2": "2288,9187"
                },
                {
                    "0": "47942",
                    "1": "2012-09-27 00:00:00.000",
                    "2": "865,2040"
                },
                {
                    "0": "47943",
                    "1": "2012-09-28 00:00:00.000",
                    "2": "1105,4834"
                },
                {
                    "0": "47944",
                    "1": "2012-09-28 00:00:00.000",
                    "2": "2264,2536"
                },
                {
                    "0": "47945",
                    "1": "2012-09-28 00:00:00.000",
                    "2": "2699,9018"
                },
                {
                    "0": "47946",
                    "1": "2012-09-28 00:00:00.000",
                    "2": "2699,9018"
                },
                {
                    "0": "47947",
                    "1": "2012-09-28 00:00:00.000",
                    "2": "1105,4834"
                },
                {
                    "0": "47948",
                    "1": "2012-09-28 00:00:00.000",
                    "2": "2699,9018"
                },
                {
                    "0": "47949",
                    "1": "2012-09-28 00:00:00.000",
                    "2": "2410,6266"
                },
                {
                    "0": "47950",
                    "1": "2012-09-28 00:00:00.000",
                    "2": "2288,9187"
                },
                {
                    "0": "47951",
                    "1": "2012-09-28 00:00:00.000",
                    "2": "2288,9187"
                },
                {
                    "0": "47952",
                    "1": "2012-09-28 00:00:00.000",
                    "2": "2699,9018"
                },
                {
                    "0": "47953",
                    "1": "2012-09-28 00:00:00.000",
                    "2": "2699,9018"
                },
                {
                    "0": "47954",
                    "1": "2012-09-28 00:00:00.000",
                    "2": "865,2040"
                },
                {
                    "0": "47955",
                    "1": "2012-09-29 00:00:00.000",
                    "2": "2410,6266"
                },
                {
                    "0": "47956",
                    "1": "2012-09-29 00:00:00.000",
                    "2": "2699,9018"
                },
                {
                    "0": "47957",
                    "1": "2012-09-29 00:00:00.000",
                    "2": "1105,4834"
                },
                {
                    "0": "47958",
                    "1": "2012-09-29 00:00:00.000",
                    "2": "865,2040"
                },
                {
                    "0": "47959",
                    "1": "2012-09-29 00:00:00.000",
                    "2": "865,2040"
                },
                {
                    "0": "47960",
                    "1": "2012-09-30 00:00:00.000",
                    "2": "12997,4011"
                },
                {
                    "0": "47961",
                    "1": "2012-09-30 00:00:00.000",
                    "2": "729,6412"
                },
                {
                    "0": "47962",
                    "1": "2012-09-30 00:00:00.000",
                    "2": "43393,5931"
                },
                {
                    "0": "47963",
                    "1": "2012-09-30 00:00:00.000",
                    "2": "5664,4170"
                },
                {
                    "0": "47964",
                    "1": "2012-09-30 00:00:00.000",
                    "2": "2949,1326"
                },
                {
                    "0": "47965",
                    "1": "2012-09-30 00:00:00.000",
                    "2": "55842,0357"
                },
                {
                    "0": "47966",
                    "1": "2012-09-30 00:00:00.000",
                    "2": "5559,7175"
                },
                {
                    "0": "47967",
                    "1": "2012-09-30 00:00:00.000",
                    "2": "43288,9540"
                },
                {
                    "0": "47968",
                    "1": "2012-09-30 00:00:00.000",
                    "2": "307,5668"
                },
                {
                    "0": "47969",
                    "1": "2012-09-30 00:00:00.000",
                    "2": "9822,3031"
                },
                {
                    "0": "47970",
                    "1": "2012-09-30 00:00:00.000",
                    "2": "81357,0314"
                },
                {
                    "0": "47971",
                    "1": "2012-09-30 00:00:00.000",
                    "2": "6347,8565"
                },
                {
                    "0": "47972",
                    "1": "2012-09-30 00:00:00.000",
                    "2": "3425,4214"
                },
                {
                    "0": "47973",
                    "1": "2012-09-30 00:00:00.000",
                    "2": "53087,0989"
                },
                {
                    "0": "47974",
                    "1": "2012-09-30 00:00:00.000",
                    "2": "723,1037"
                },
                {
                    "0": "47975",
                    "1": "2012-09-30 00:00:00.000",
                    "2": "55601,1616"
                },
                {
                    "0": "47976",
                    "1": "2012-09-30 00:00:00.000",
                    "2": "45097,4442"
                },
                {
                    "0": "47977",
                    "1": "2012-09-30 00:00:00.000",
                    "2": "9248,7115"
                },
                {
                    "0": "47978",
                    "1": "2012-09-30 00:00:00.000",
                    "2": "26203,0319"
                },
                {
                    "0": "47979",
                    "1": "2012-09-30 00:00:00.000",
                    "2": "4001,1931"
                },
                {
                    "0": "47980",
                    "1": "2012-09-30 00:00:00.000",
                    "2": "25391,0378"
                },
                {
                    "0": "47981",
                    "1": "2012-09-30 00:00:00.000",
                    "2": "3047,9964"
                },
                {
                    "0": "47982",
                    "1": "2012-09-30 00:00:00.000",
                    "2": "76,2966"
                },
                {
                    "0": "47983",
                    "1": "2012-09-30 00:00:00.000",
                    "2": "528,9880"
                },
                {
                    "0": "47984",
                    "1": "2012-09-30 00:00:00.000",
                    "2": "6622,6191"
                },
                {
                    "0": "47985",
                    "1": "2012-09-30 00:00:00.000",
                    "2": "23,1773"
                },
                {
                    "0": "47986",
                    "1": "2012-09-30 00:00:00.000",
                    "2": "98786,0510"
                },
                {
                    "0": "47987",
                    "1": "2012-09-30 00:00:00.000",
                    "2": "1797,0194"
                },
                {
                    "0": "47988",
                    "1": "2012-09-30 00:00:00.000",
                    "2": "107394,7718"
                },
                {
                    "0": "47989",
                    "1": "2012-09-30 00:00:00.000",
                    "2": "8418,7379"
                },
                {
                    "0": "47990",
                    "1": "2012-09-30 00:00:00.000",
                    "2": "112859,9318"
                },
                {
                    "0": "47991",
                    "1": "2012-09-30 00:00:00.000",
                    "2": "39748,1045"
                },
                {
                    "0": "47992",
                    "1": "2012-09-30 00:00:00.000",
                    "2": "48974,7969"
                },
                {
                    "0": "47993",
                    "1": "2012-09-30 00:00:00.000",
                    "2": "10283,5803"
                },
                {
                    "0": "47994",
                    "1": "2012-09-30 00:00:00.000",
                    "2": "53191,3049"
                },
                {
                    "0": "47995",
                    "1": "2012-09-30 00:00:00.000",
                    "2": "16319,2209"
                },
                {
                    "0": "47996",
                    "1": "2012-09-30 00:00:00.000",
                    "2": "45220,8879"
                },
                {
                    "0": "47997",
                    "1": "2012-09-30 00:00:00.000",
                    "2": "4682,6908"
                },
                {
                    "0": "47998",
                    "1": "2012-09-30 00:00:00.000",
                    "2": "12839,3803"
                },
                {
                    "0": "47999",
                    "1": "2012-09-30 00:00:00.000",
                    "2": "38477,3289"
                },
                {
                    "0": "48000",
                    "1": "2012-09-30 00:00:00.000",
                    "2": "881,9341"
                },
                {
                    "0": "48001",
                    "1": "2012-09-30 00:00:00.000",
                    "2": "40968,3578"
                },
                {
                    "0": "48002",
                    "1": "2012-09-30 00:00:00.000",
                    "2": "5190,1966"
                },
                {
                    "0": "48003",
                    "1": "2012-09-30 00:00:00.000",
                    "2": "269,8050"
                },
                {
                    "0": "48004",
                    "1": "2012-09-30 00:00:00.000",
                    "2": "49589,3932"
                },
                {
                    "0": "48005",
                    "1": "2012-09-30 00:00:00.000",
                    "2": "99112,4483"
                },
                {
                    "0": "48006",
                    "1": "2012-09-30 00:00:00.000",
                    "2": "16398,6293"
                },
                {
                    "0": "48007",
                    "1": "2012-09-30 00:00:00.000",
                    "2": "729,6412"
                },
                {
                    "0": "48008",
                    "1": "2012-09-30 00:00:00.000",
                    "2": "729,3058"
                },
                {
                    "0": "48009",
                    "1": "2012-09-30 00:00:00.000",
                    "2": "8980,0993"
                },
                {
                    "0": "48010",
                    "1": "2012-09-30 00:00:00.000",
                    "2": "74493,7567"
                },
                {
                    "0": "48011",
                    "1": "2012-09-30 00:00:00.000",
                    "2": "8463,8087"
                },
                {
                    "0": "48012",
                    "1": "2012-09-30 00:00:00.000",
                    "2": "57550,3009"
                },
                {
                    "0": "48013",
                    "1": "2012-09-30 00:00:00.000",
                    "2": "2257,2249"
                },
                {
                    "0": "48014",
                    "1": "2012-09-30 00:00:00.000",
                    "2": "236,3547"
                },
                {
                    "0": "48015",
                    "1": "2012-09-30 00:00:00.000",
                    "2": "3400,0346"
                },
                {
                    "0": "48016",
                    "1": "2012-09-30 00:00:00.000",
                    "2": "49868,5573"
                },
                {
                    "0": "48017",
                    "1": "2012-09-30 00:00:00.000",
                    "2": "40878,2782"
                },
                {
                    "0": "48018",
                    "1": "2012-09-30 00:00:00.000",
                    "2": "50220,1810"
                },
                {
                    "0": "48019",
                    "1": "2012-09-30 00:00:00.000",
                    "2": "6997,2556"
                },
                {
                    "0": "48020",
                    "1": "2012-09-30 00:00:00.000",
                    "2": "8530,1459"
                },
                {
                    "0": "48021",
                    "1": "2012-09-30 00:00:00.000",
                    "2": "40073,1715"
                },
                {
                    "0": "48022",
                    "1": "2012-09-30 00:00:00.000",
                    "2": "4557,1730"
                },
                {
                    "0": "48023",
                    "1": "2012-09-30 00:00:00.000",
                    "2": "35116,7008"
                },
                {
                    "0": "48024",
                    "1": "2012-09-30 00:00:00.000",
                    "2": "22,3061"
                },
                {
                    "0": "48025",
                    "1": "2012-09-30 00:00:00.000",
                    "2": "1536,6916"
                },
                {
                    "0": "48026",
                    "1": "2012-09-30 00:00:00.000",
                    "2": "52145,5501"
                },
                {
                    "0": "48027",
                    "1": "2012-09-30 00:00:00.000",
                    "2": "350,2312"
                },
                {
                    "0": "48028",
                    "1": "2012-09-30 00:00:00.000",
                    "2": "36875,2682"
                },
                {
                    "0": "48029",
                    "1": "2012-09-30 00:00:00.000",
                    "2": "22,3061"
                },
                {
                    "0": "48030",
                    "1": "2012-09-30 00:00:00.000",
                    "2": "3659,8671"
                },
                {
                    "0": "48031",
                    "1": "2012-09-30 00:00:00.000",
                    "2": "41112,0010"
                },
                {
                    "0": "48032",
                    "1": "2012-09-30 00:00:00.000",
                    "2": "2766,3611"
                },
                {
                    "0": "48033",
                    "1": "2012-09-30 00:00:00.000",
                    "2": "53583,1341"
                },
                {
                    "0": "48034",
                    "1": "2012-09-30 00:00:00.000",
                    "2": "17589,2799"
                },
                {
                    "0": "48035",
                    "1": "2012-09-30 00:00:00.000",
                    "2": "58881,9766"
                },
                {
                    "0": "48036",
                    "1": "2012-09-30 00:00:00.000",
                    "2": "39091,4814"
                },
                {
                    "0": "48037",
                    "1": "2012-09-30 00:00:00.000",
                    "2": "23508,3625"
                },
                {
                    "0": "48038",
                    "1": "2012-09-30 00:00:00.000",
                    "2": "9247,1139"
                },
                {
                    "0": "48039",
                    "1": "2012-09-30 00:00:00.000",
                    "2": "1942,5688"
                },
                {
                    "0": "48040",
                    "1": "2012-09-30 00:00:00.000",
                    "2": "1697,5192"
                },
                {
                    "0": "48041",
                    "1": "2012-09-30 00:00:00.000",
                    "2": "11451,9319"
                },
                {
                    "0": "48042",
                    "1": "2012-09-30 00:00:00.000",
                    "2": "2414,6245"
                },
                {
                    "0": "48043",
                    "1": "2012-09-30 00:00:00.000",
                    "2": "109751,4891"
                },
                {
                    "0": "48044",
                    "1": "2012-09-30 00:00:00.000",
                    "2": "245,1090"
                },
                {
                    "0": "48045",
                    "1": "2012-09-30 00:00:00.000",
                    "2": "1302,7588"
                },
                {
                    "0": "48046",
                    "1": "2012-09-30 00:00:00.000",
                    "2": "362,9685"
                },
                {
                    "0": "48047",
                    "1": "2012-09-30 00:00:00.000",
                    "2": "15,7361"
                },
                {
                    "0": "48048",
                    "1": "2012-09-30 00:00:00.000",
                    "2": "107136,3425"
                },
                {
                    "0": "48049",
                    "1": "2012-09-30 00:00:00.000",
                    "2": "46172,7196"
                },
                {
                    "0": "48050",
                    "1": "2012-09-30 00:00:00.000",
                    "2": "37910,4265"
                },
                {
                    "0": "48051",
                    "1": "2012-09-30 00:00:00.000",
                    "2": "48155,6042"
                },
                {
                    "0": "48052",
                    "1": "2012-09-30 00:00:00.000",
                    "2": "27778,5386"
                },
                {
                    "0": "48053",
                    "1": "2012-09-30 00:00:00.000",
                    "2": "43139,5672"
                },
                {
                    "0": "48054",
                    "1": "2012-09-30 00:00:00.000",
                    "2": "3173,9282"
                },
                {
                    "0": "48055",
                    "1": "2012-09-30 00:00:00.000",
                    "2": "2268,5228"
                },
                {
                    "0": "48056",
                    "1": "2012-09-30 00:00:00.000",
                    "2": "67121,2511"
                },
                {
                    "0": "48057",
                    "1": "2012-09-30 00:00:00.000",
                    "2": "97613,7308"
                },
                {
                    "0": "48058",
                    "1": "2012-09-30 00:00:00.000",
                    "2": "23,1773"
                },
                {
                    "0": "48059",
                    "1": "2012-09-30 00:00:00.000",
                    "2": "49784,3531"
                },
                {
                    "0": "48060",
                    "1": "2012-09-30 00:00:00.000",
                    "2": "1586,9642"
                },
                {
                    "0": "48061",
                    "1": "2012-09-30 00:00:00.000",
                    "2": "1057,9760"
                },
                {
                    "0": "48062",
                    "1": "2012-09-30 00:00:00.000",
                    "2": "16080,0463"
                },
                {
                    "0": "48063",
                    "1": "2012-09-30 00:00:00.000",
                    "2": "40986,0702"
                },
                {
                    "0": "48064",
                    "1": "2012-09-30 00:00:00.000",
                    "2": "100,4487"
                },
                {
                    "0": "48065",
                    "1": "2012-09-30 00:00:00.000",
                    "2": "89031,0812"
                },
                {
                    "0": "48066",
                    "1": "2012-09-30 00:00:00.000",
                    "2": "44070,7691"
                },
                {
                    "0": "48067",
                    "1": "2012-09-30 00:00:00.000",
                    "2": "40,0883"
                },
                {
                    "0": "48068",
                    "1": "2012-09-30 00:00:00.000",
                    "2": "2851,8933"
                },
                {
                    "0": "48069",
                    "1": "2012-09-30 00:00:00.000",
                    "2": "74829,8502"
                },
                {
                    "0": "48070",
                    "1": "2012-09-30 00:00:00.000",
                    "2": "207,7582"
                },
                {
                    "0": "48071",
                    "1": "2012-09-30 00:00:00.000",
                    "2": "38624,2853"
                },
                {
                    "0": "48072",
                    "1": "2012-09-30 00:00:00.000",
                    "2": "4411,7543"
                },
                {
                    "0": "48073",
                    "1": "2012-09-30 00:00:00.000",
                    "2": "11543,7753"
                },
                {
                    "0": "48074",
                    "1": "2012-09-30 00:00:00.000",
                    "2": "228,5340"
                },
                {
                    "0": "48075",
                    "1": "2012-09-30 00:00:00.000",
                    "2": "21149,6277"
                },
                {
                    "0": "48076",
                    "1": "2012-09-30 00:00:00.000",
                    "2": "72651,9849"
                },
                {
                    "0": "48077",
                    "1": "2012-09-30 00:00:00.000",
                    "2": "44637,9672"
                },
                {
                    "0": "48078",
                    "1": "2012-09-30 00:00:00.000",
                    "2": "2768,7414"
                },
                {
                    "0": "48079",
                    "1": "2012-09-30 00:00:00.000",
                    "2": "48930,5642"
                },
                {
                    "0": "48080",
                    "1": "2012-09-30 00:00:00.000",
                    "2": "56071,6643"
                },
                {
                    "0": "48081",
                    "1": "2012-09-30 00:00:00.000",
                    "2": "1650,7273"
                },
                {
                    "0": "48082",
                    "1": "2012-09-30 00:00:00.000",
                    "2": "1384,3708"
                },
                {
                    "0": "48083",
                    "1": "2012-09-30 00:00:00.000",
                    "2": "7806,9381"
                },
                {
                    "0": "48084",
                    "1": "2012-09-30 00:00:00.000",
                    "2": "4416,4142"
                },
                {
                    "0": "48085",
                    "1": "2012-09-30 00:00:00.000",
                    "2": "1286,5101"
                },
                {
                    "0": "48086",
                    "1": "2012-09-30 00:00:00.000",
                    "2": "76,2853"
                },
                {
                    "0": "48087",
                    "1": "2012-09-30 00:00:00.000",
                    "2": "53883,4153"
                },
                {
                    "0": "48088",
                    "1": "2012-09-30 00:00:00.000",
                    "2": "12580,7382"
                },
                {
                    "0": "48089",
                    "1": "2012-09-30 00:00:00.000",
                    "2": "68500,2118"
                },
                {
                    "0": "48090",
                    "1": "2012-09-30 00:00:00.000",
                    "2": "8487,9788"
                },
                {
                    "0": "48091",
                    "1": "2012-09-30 00:00:00.000",
                    "2": "1473,8636"
                },
                {
                    "0": "48092",
                    "1": "2012-09-30 00:00:00.000",
                    "2": "265,7329"
                },
                {
                    "0": "48093",
                    "1": "2012-09-30 00:00:00.000",
                    "2": "2410,6266"
                },
                {
                    "0": "48094",
                    "1": "2012-09-30 00:00:00.000",
                    "2": "2699,9018"
                },
                {
                    "0": "48095",
                    "1": "2012-09-30 00:00:00.000",
                    "2": "865,2040"
                },
                {
                    "0": "48096",
                    "1": "2012-09-30 00:00:00.000",
                    "2": "865,2040"
                },
                {
                    "0": "48097",
                    "1": "2012-09-30 00:00:00.000",
                    "2": "2699,9018"
                },
                {
                    "0": "48098",
                    "1": "2012-09-30 00:00:00.000",
                    "2": "2410,6266"
                }
            ]
        },
        "text/html": [
            "<table>",
            "<tr><th>SalesOrderID</th><th>OrderDate</th><th>TotalDue</th></tr>",
            "<tr><td>47747</td><td>2012-09-01 00:00:00.000</td><td>2410,6266</td></tr>",
            "<tr><td>47748</td><td>2012-09-01 00:00:00.000</td><td>2288,9187</td></tr>",
            "<tr><td>47749</td><td>2012-09-01 00:00:00.000</td><td>2410,6266</td></tr>",
            "<tr><td>47750</td><td>2012-09-01 00:00:00.000</td><td>2699,9018</td></tr>",
            "<tr><td>47751</td><td>2012-09-01 00:00:00.000</td><td>2699,9018</td></tr>",
            "<tr><td>47752</td><td>2012-09-01 00:00:00.000</td><td>2410,6266</td></tr>",
            "<tr><td>47753</td><td>2012-09-01 00:00:00.000</td><td>2264,2536</td></tr>",
            "<tr><td>47754</td><td>2012-09-02 00:00:00.000</td><td>1105,4834</td></tr>",
            "<tr><td>47755</td><td>2012-09-02 00:00:00.000</td><td>1105,4834</td></tr>",
            "<tr><td>47756</td><td>2012-09-02 00:00:00.000</td><td>2288,9187</td></tr>",
            "<tr><td>47757</td><td>2012-09-02 00:00:00.000</td><td>2410,6266</td></tr>",
            "<tr><td>47758</td><td>2012-09-02 00:00:00.000</td><td>2410,6266</td></tr>",
            "<tr><td>47759</td><td>2012-09-02 00:00:00.000</td><td>2410,6266</td></tr>",
            "<tr><td>47760</td><td>2012-09-02 00:00:00.000</td><td>2410,6266</td></tr>",
            "<tr><td>47761</td><td>2012-09-03 00:00:00.000</td><td>865,2040</td></tr>",
            "<tr><td>47762</td><td>2012-09-03 00:00:00.000</td><td>2288,9187</td></tr>",
            "<tr><td>47763</td><td>2012-09-03 00:00:00.000</td><td>2410,6266</td></tr>",
            "<tr><td>47764</td><td>2012-09-04 00:00:00.000</td><td>2288,9187</td></tr>",
            "<tr><td>47765</td><td>2012-09-04 00:00:00.000</td><td>2264,2536</td></tr>",
            "<tr><td>47766</td><td>2012-09-04 00:00:00.000</td><td>2264,2536</td></tr>",
            "<tr><td>47767</td><td>2012-09-04 00:00:00.000</td><td>1105,4834</td></tr>",
            "<tr><td>47768</td><td>2012-09-04 00:00:00.000</td><td>2410,6266</td></tr>",
            "<tr><td>47769</td><td>2012-09-04 00:00:00.000</td><td>2264,2536</td></tr>",
            "<tr><td>47770</td><td>2012-09-04 00:00:00.000</td><td>865,2040</td></tr>",
            "<tr><td>47771</td><td>2012-09-05 00:00:00.000</td><td>2410,6266</td></tr>",
            "<tr><td>47772</td><td>2012-09-05 00:00:00.000</td><td>2699,9018</td></tr>",
            "<tr><td>47773</td><td>2012-09-05 00:00:00.000</td><td>865,2040</td></tr>",
            "<tr><td>47774</td><td>2012-09-05 00:00:00.000</td><td>865,2040</td></tr>",
            "<tr><td>47775</td><td>2012-09-05 00:00:00.000</td><td>2699,9018</td></tr>",
            "<tr><td>47776</td><td>2012-09-05 00:00:00.000</td><td>2288,9187</td></tr>",
            "<tr><td>47777</td><td>2012-09-05 00:00:00.000</td><td>865,2040</td></tr>",
            "<tr><td>47778</td><td>2012-09-06 00:00:00.000</td><td>2288,9187</td></tr>",
            "<tr><td>47779</td><td>2012-09-06 00:00:00.000</td><td>2410,6266</td></tr>",
            "<tr><td>47780</td><td>2012-09-06 00:00:00.000</td><td>1105,4834</td></tr>",
            "<tr><td>47781</td><td>2012-09-06 00:00:00.000</td><td>2410,6266</td></tr>",
            "<tr><td>47782</td><td>2012-09-06 00:00:00.000</td><td>2410,6266</td></tr>",
            "<tr><td>47783</td><td>2012-09-06 00:00:00.000</td><td>2410,6266</td></tr>",
            "<tr><td>47784</td><td>2012-09-06 00:00:00.000</td><td>2288,9187</td></tr>",
            "<tr><td>47785</td><td>2012-09-07 00:00:00.000</td><td>2288,9187</td></tr>",
            "<tr><td>47786</td><td>2012-09-07 00:00:00.000</td><td>2699,9018</td></tr>",
            "<tr><td>47787</td><td>2012-09-07 00:00:00.000</td><td>2699,9018</td></tr>",
            "<tr><td>47788</td><td>2012-09-08 00:00:00.000</td><td>2410,6266</td></tr>",
            "<tr><td>47789</td><td>2012-09-08 00:00:00.000</td><td>2410,6266</td></tr>",
            "<tr><td>47790</td><td>2012-09-08 00:00:00.000</td><td>2410,6266</td></tr>",
            "<tr><td>47791</td><td>2012-09-08 00:00:00.000</td><td>2264,2536</td></tr>",
            "<tr><td>47792</td><td>2012-09-09 00:00:00.000</td><td>2699,9018</td></tr>",
            "<tr><td>47793</td><td>2012-09-09 00:00:00.000</td><td>2699,9018</td></tr>",
            "<tr><td>47794</td><td>2012-09-09 00:00:00.000</td><td>2288,9187</td></tr>",
            "<tr><td>47795</td><td>2012-09-09 00:00:00.000</td><td>2410,6266</td></tr>",
            "<tr><td>47796</td><td>2012-09-09 00:00:00.000</td><td>2410,6266</td></tr>",
            "<tr><td>47797</td><td>2012-09-09 00:00:00.000</td><td>2410,6266</td></tr>",
            "<tr><td>47798</td><td>2012-09-09 00:00:00.000</td><td>2288,9187</td></tr>",
            "<tr><td>47799</td><td>2012-09-10 00:00:00.000</td><td>2264,2536</td></tr>",
            "<tr><td>47800</td><td>2012-09-10 00:00:00.000</td><td>2410,6266</td></tr>",
            "<tr><td>47801</td><td>2012-09-10 00:00:00.000</td><td>865,2040</td></tr>",
            "<tr><td>47802</td><td>2012-09-10 00:00:00.000</td><td>865,2040</td></tr>",
            "<tr><td>47803</td><td>2012-09-10 00:00:00.000</td><td>2410,6266</td></tr>",
            "<tr><td>47804</td><td>2012-09-10 00:00:00.000</td><td>2699,9018</td></tr>",
            "<tr><td>47805</td><td>2012-09-10 00:00:00.000</td><td>2410,6266</td></tr>",
            "<tr><td>47806</td><td>2012-09-10 00:00:00.000</td><td>865,2040</td></tr>",
            "<tr><td>47807</td><td>2012-09-10 00:00:00.000</td><td>2410,6266</td></tr>",
            "<tr><td>47808</td><td>2012-09-10 00:00:00.000</td><td>865,2040</td></tr>",
            "<tr><td>47809</td><td>2012-09-10 00:00:00.000</td><td>865,2040</td></tr>",
            "<tr><td>47810</td><td>2012-09-10 00:00:00.000</td><td>865,2040</td></tr>",
            "<tr><td>47811</td><td>2012-09-11 00:00:00.000</td><td>2288,9187</td></tr>",
            "<tr><td>47812</td><td>2012-09-11 00:00:00.000</td><td>2410,6266</td></tr>",
            "<tr><td>47813</td><td>2012-09-11 00:00:00.000</td><td>1105,4834</td></tr>",
            "<tr><td>47814</td><td>2012-09-11 00:00:00.000</td><td>2264,2536</td></tr>",
            "<tr><td>47815</td><td>2012-09-11 00:00:00.000</td><td>2410,6266</td></tr>",
            "<tr><td>47816</td><td>2012-09-11 00:00:00.000</td><td>2699,9018</td></tr>",
            "<tr><td>47817</td><td>2012-09-11 00:00:00.000</td><td>2410,6266</td></tr>",
            "<tr><td>47818</td><td>2012-09-11 00:00:00.000</td><td>865,2040</td></tr>",
            "<tr><td>47819</td><td>2012-09-11 00:00:00.000</td><td>2410,6266</td></tr>",
            "<tr><td>47820</td><td>2012-09-11 00:00:00.000</td><td>2288,9187</td></tr>",
            "<tr><td>47821</td><td>2012-09-11 00:00:00.000</td><td>2288,9187</td></tr>",
            "<tr><td>47822</td><td>2012-09-11 00:00:00.000</td><td>2288,9187</td></tr>",
            "<tr><td>47823</td><td>2012-09-11 00:00:00.000</td><td>865,2040</td></tr>",
            "<tr><td>47824</td><td>2012-09-12 00:00:00.000</td><td>2699,9018</td></tr>",
            "<tr><td>47825</td><td>2012-09-12 00:00:00.000</td><td>865,2040</td></tr>",
            "<tr><td>47826</td><td>2012-09-12 00:00:00.000</td><td>2699,9018</td></tr>",
            "<tr><td>47827</td><td>2012-09-12 00:00:00.000</td><td>2699,9018</td></tr>",
            "<tr><td>47828</td><td>2012-09-12 00:00:00.000</td><td>2699,9018</td></tr>",
            "<tr><td>47829</td><td>2012-09-12 00:00:00.000</td><td>2288,9187</td></tr>",
            "<tr><td>47830</td><td>2012-09-13 00:00:00.000</td><td>1105,4834</td></tr>",
            "<tr><td>47831</td><td>2012-09-13 00:00:00.000</td><td>2264,2536</td></tr>",
            "<tr><td>47832</td><td>2012-09-13 00:00:00.000</td><td>2699,9018</td></tr>",
            "<tr><td>47833</td><td>2012-09-13 00:00:00.000</td><td>2410,6266</td></tr>",
            "<tr><td>47834</td><td>2012-09-13 00:00:00.000</td><td>2410,6266</td></tr>",
            "<tr><td>47835</td><td>2012-09-13 00:00:00.000</td><td>1105,4834</td></tr>",
            "<tr><td>47836</td><td>2012-09-14 00:00:00.000</td><td>2288,9187</td></tr>",
            "<tr><td>47837</td><td>2012-09-14 00:00:00.000</td><td>2288,9187</td></tr>",
            "<tr><td>47838</td><td>2012-09-14 00:00:00.000</td><td>2410,6266</td></tr>",
            "<tr><td>47839</td><td>2012-09-14 00:00:00.000</td><td>865,2040</td></tr>",
            "<tr><td>47840</td><td>2012-09-14 00:00:00.000</td><td>865,2040</td></tr>",
            "<tr><td>47841</td><td>2012-09-14 00:00:00.000</td><td>2264,2536</td></tr>",
            "<tr><td>47842</td><td>2012-09-14 00:00:00.000</td><td>865,2040</td></tr>",
            "<tr><td>47843</td><td>2012-09-14 00:00:00.000</td><td>865,2040</td></tr>",
            "<tr><td>47844</td><td>2012-09-14 00:00:00.000</td><td>2410,6266</td></tr>",
            "<tr><td>47845</td><td>2012-09-15 00:00:00.000</td><td>2699,9018</td></tr>",
            "<tr><td>47846</td><td>2012-09-15 00:00:00.000</td><td>2699,9018</td></tr>",
            "<tr><td>47847</td><td>2012-09-15 00:00:00.000</td><td>2699,9018</td></tr>",
            "<tr><td>47848</td><td>2012-09-15 00:00:00.000</td><td>2264,2536</td></tr>",
            "<tr><td>47849</td><td>2012-09-15 00:00:00.000</td><td>865,2040</td></tr>",
            "<tr><td>47850</td><td>2012-09-15 00:00:00.000</td><td>865,2040</td></tr>",
            "<tr><td>47851</td><td>2012-09-16 00:00:00.000</td><td>2264,2536</td></tr>",
            "<tr><td>47852</td><td>2012-09-16 00:00:00.000</td><td>2288,9187</td></tr>",
            "<tr><td>47853</td><td>2012-09-16 00:00:00.000</td><td>2264,2536</td></tr>",
            "<tr><td>47854</td><td>2012-09-16 00:00:00.000</td><td>865,2040</td></tr>",
            "<tr><td>47855</td><td>2012-09-16 00:00:00.000</td><td>2288,9187</td></tr>",
            "<tr><td>47856</td><td>2012-09-16 00:00:00.000</td><td>2264,2536</td></tr>",
            "<tr><td>47857</td><td>2012-09-16 00:00:00.000</td><td>2264,2536</td></tr>",
            "<tr><td>47858</td><td>2012-09-17 00:00:00.000</td><td>1105,4834</td></tr>",
            "<tr><td>47859</td><td>2012-09-17 00:00:00.000</td><td>2264,2536</td></tr>",
            "<tr><td>47860</td><td>2012-09-17 00:00:00.000</td><td>2288,9187</td></tr>",
            "<tr><td>47861</td><td>2012-09-17 00:00:00.000</td><td>2288,9187</td></tr>",
            "<tr><td>47862</td><td>2012-09-17 00:00:00.000</td><td>2410,6266</td></tr>",
            "<tr><td>47863</td><td>2012-09-17 00:00:00.000</td><td>865,2040</td></tr>",
            "<tr><td>47864</td><td>2012-09-17 00:00:00.000</td><td>2410,6266</td></tr>",
            "<tr><td>47865</td><td>2012-09-17 00:00:00.000</td><td>2288,9187</td></tr>",
            "<tr><td>47866</td><td>2012-09-17 00:00:00.000</td><td>2288,9187</td></tr>",
            "<tr><td>47867</td><td>2012-09-17 00:00:00.000</td><td>2264,2536</td></tr>",
            "<tr><td>47868</td><td>2012-09-17 00:00:00.000</td><td>2288,9187</td></tr>",
            "<tr><td>47869</td><td>2012-09-17 00:00:00.000</td><td>865,2040</td></tr>",
            "<tr><td>47870</td><td>2012-09-18 00:00:00.000</td><td>1105,4834</td></tr>",
            "<tr><td>47871</td><td>2012-09-18 00:00:00.000</td><td>2410,6266</td></tr>",
            "<tr><td>47872</td><td>2012-09-18 00:00:00.000</td><td>2410,6266</td></tr>",
            "<tr><td>47873</td><td>2012-09-18 00:00:00.000</td><td>1105,4834</td></tr>",
            "<tr><td>47874</td><td>2012-09-18 00:00:00.000</td><td>2410,6266</td></tr>",
            "<tr><td>47875</td><td>2012-09-18 00:00:00.000</td><td>2410,6266</td></tr>",
            "<tr><td>47876</td><td>2012-09-18 00:00:00.000</td><td>865,2040</td></tr>",
            "<tr><td>47877</td><td>2012-09-18 00:00:00.000</td><td>865,2040</td></tr>",
            "<tr><td>47878</td><td>2012-09-18 00:00:00.000</td><td>2264,2536</td></tr>",
            "<tr><td>47879</td><td>2012-09-19 00:00:00.000</td><td>1105,4834</td></tr>",
            "<tr><td>47880</td><td>2012-09-19 00:00:00.000</td><td>2264,2536</td></tr>",
            "<tr><td>47881</td><td>2012-09-19 00:00:00.000</td><td>2410,6266</td></tr>",
            "<tr><td>47882</td><td>2012-09-19 00:00:00.000</td><td>2410,6266</td></tr>",
            "<tr><td>47883</td><td>2012-09-19 00:00:00.000</td><td>2288,9187</td></tr>",
            "<tr><td>47884</td><td>2012-09-19 00:00:00.000</td><td>2699,9018</td></tr>",
            "<tr><td>47885</td><td>2012-09-19 00:00:00.000</td><td>1105,4834</td></tr>",
            "<tr><td>47886</td><td>2012-09-19 00:00:00.000</td><td>2264,2536</td></tr>",
            "<tr><td>47887</td><td>2012-09-19 00:00:00.000</td><td>2288,9187</td></tr>",
            "<tr><td>47888</td><td>2012-09-19 00:00:00.000</td><td>2288,9187</td></tr>",
            "<tr><td>47889</td><td>2012-09-20 00:00:00.000</td><td>2410,6266</td></tr>",
            "<tr><td>47890</td><td>2012-09-20 00:00:00.000</td><td>2699,9018</td></tr>",
            "<tr><td>47891</td><td>2012-09-20 00:00:00.000</td><td>2410,6266</td></tr>",
            "<tr><td>47892</td><td>2012-09-20 00:00:00.000</td><td>1105,4834</td></tr>",
            "<tr><td>47893</td><td>2012-09-20 00:00:00.000</td><td>2410,6266</td></tr>",
            "<tr><td>47894</td><td>2012-09-20 00:00:00.000</td><td>2264,2536</td></tr>",
            "<tr><td>47895</td><td>2012-09-20 00:00:00.000</td><td>865,2040</td></tr>",
            "<tr><td>47896</td><td>2012-09-21 00:00:00.000</td><td>1105,4834</td></tr>",
            "<tr><td>47897</td><td>2012-09-21 00:00:00.000</td><td>2410,6266</td></tr>",
            "<tr><td>47898</td><td>2012-09-21 00:00:00.000</td><td>865,2040</td></tr>",
            "<tr><td>47899</td><td>2012-09-21 00:00:00.000</td><td>2264,2536</td></tr>",
            "<tr><td>47900</td><td>2012-09-21 00:00:00.000</td><td>2264,2536</td></tr>",
            "<tr><td>47901</td><td>2012-09-21 00:00:00.000</td><td>2288,9187</td></tr>",
            "<tr><td>47902</td><td>2012-09-21 00:00:00.000</td><td>2264,2536</td></tr>",
            "<tr><td>47903</td><td>2012-09-22 00:00:00.000</td><td>2699,9018</td></tr>",
            "<tr><td>47904</td><td>2012-09-22 00:00:00.000</td><td>2410,6266</td></tr>",
            "<tr><td>47905</td><td>2012-09-22 00:00:00.000</td><td>2410,6266</td></tr>",
            "<tr><td>47906</td><td>2012-09-22 00:00:00.000</td><td>865,2040</td></tr>",
            "<tr><td>47907</td><td>2012-09-22 00:00:00.000</td><td>2699,9018</td></tr>",
            "<tr><td>47908</td><td>2012-09-22 00:00:00.000</td><td>2264,2536</td></tr>",
            "<tr><td>47909</td><td>2012-09-22 00:00:00.000</td><td>2288,9187</td></tr>",
            "<tr><td>47910</td><td>2012-09-22 00:00:00.000</td><td>2288,9187</td></tr>",
            "<tr><td>47911</td><td>2012-09-22 00:00:00.000</td><td>2264,2536</td></tr>",
            "<tr><td>47912</td><td>2012-09-23 00:00:00.000</td><td>2264,2536</td></tr>",
            "<tr><td>47913</td><td>2012-09-23 00:00:00.000</td><td>2699,9018</td></tr>",
            "<tr><td>47914</td><td>2012-09-23 00:00:00.000</td><td>865,2040</td></tr>",
            "<tr><td>47915</td><td>2012-09-23 00:00:00.000</td><td>2264,2536</td></tr>",
            "<tr><td>47916</td><td>2012-09-23 00:00:00.000</td><td>1105,4834</td></tr>",
            "<tr><td>47917</td><td>2012-09-23 00:00:00.000</td><td>2264,2536</td></tr>",
            "<tr><td>47918</td><td>2012-09-23 00:00:00.000</td><td>2264,2536</td></tr>",
            "<tr><td>47919</td><td>2012-09-24 00:00:00.000</td><td>1105,4834</td></tr>",
            "<tr><td>47920</td><td>2012-09-24 00:00:00.000</td><td>2264,2536</td></tr>",
            "<tr><td>47921</td><td>2012-09-24 00:00:00.000</td><td>2410,6266</td></tr>",
            "<tr><td>47922</td><td>2012-09-24 00:00:00.000</td><td>2410,6266</td></tr>",
            "<tr><td>47923</td><td>2012-09-24 00:00:00.000</td><td>2264,2536</td></tr>",
            "<tr><td>47924</td><td>2012-09-24 00:00:00.000</td><td>2410,6266</td></tr>",
            "<tr><td>47925</td><td>2012-09-24 00:00:00.000</td><td>1105,4834</td></tr>",
            "<tr><td>47926</td><td>2012-09-24 00:00:00.000</td><td>2264,2536</td></tr>",
            "<tr><td>47927</td><td>2012-09-24 00:00:00.000</td><td>865,2040</td></tr>",
            "<tr><td>47928</td><td>2012-09-25 00:00:00.000</td><td>2410,6266</td></tr>",
            "<tr><td>47929</td><td>2012-09-25 00:00:00.000</td><td>2699,9018</td></tr>",
            "<tr><td>47930</td><td>2012-09-25 00:00:00.000</td><td>2410,6266</td></tr>",
            "<tr><td>47931</td><td>2012-09-26 00:00:00.000</td><td>2699,9018</td></tr>",
            "<tr><td>47932</td><td>2012-09-26 00:00:00.000</td><td>2410,6266</td></tr>",
            "<tr><td>47933</td><td>2012-09-26 00:00:00.000</td><td>2410,6266</td></tr>",
            "<tr><td>47934</td><td>2012-09-26 00:00:00.000</td><td>1105,4834</td></tr>",
            "<tr><td>47935</td><td>2012-09-26 00:00:00.000</td><td>2410,6266</td></tr>",
            "<tr><td>47936</td><td>2012-09-26 00:00:00.000</td><td>865,2040</td></tr>",
            "<tr><td>47937</td><td>2012-09-27 00:00:00.000</td><td>865,2040</td></tr>",
            "<tr><td>47938</td><td>2012-09-27 00:00:00.000</td><td>2410,6266</td></tr>",
            "<tr><td>47939</td><td>2012-09-27 00:00:00.000</td><td>2410,6266</td></tr>",
            "<tr><td>47940</td><td>2012-09-27 00:00:00.000</td><td>2288,9187</td></tr>",
            "<tr><td>47941</td><td>2012-09-27 00:00:00.000</td><td>2288,9187</td></tr>",
            "<tr><td>47942</td><td>2012-09-27 00:00:00.000</td><td>865,2040</td></tr>",
            "<tr><td>47943</td><td>2012-09-28 00:00:00.000</td><td>1105,4834</td></tr>",
            "<tr><td>47944</td><td>2012-09-28 00:00:00.000</td><td>2264,2536</td></tr>",
            "<tr><td>47945</td><td>2012-09-28 00:00:00.000</td><td>2699,9018</td></tr>",
            "<tr><td>47946</td><td>2012-09-28 00:00:00.000</td><td>2699,9018</td></tr>",
            "<tr><td>47947</td><td>2012-09-28 00:00:00.000</td><td>1105,4834</td></tr>",
            "<tr><td>47948</td><td>2012-09-28 00:00:00.000</td><td>2699,9018</td></tr>",
            "<tr><td>47949</td><td>2012-09-28 00:00:00.000</td><td>2410,6266</td></tr>",
            "<tr><td>47950</td><td>2012-09-28 00:00:00.000</td><td>2288,9187</td></tr>",
            "<tr><td>47951</td><td>2012-09-28 00:00:00.000</td><td>2288,9187</td></tr>",
            "<tr><td>47952</td><td>2012-09-28 00:00:00.000</td><td>2699,9018</td></tr>",
            "<tr><td>47953</td><td>2012-09-28 00:00:00.000</td><td>2699,9018</td></tr>",
            "<tr><td>47954</td><td>2012-09-28 00:00:00.000</td><td>865,2040</td></tr>",
            "<tr><td>47955</td><td>2012-09-29 00:00:00.000</td><td>2410,6266</td></tr>",
            "<tr><td>47956</td><td>2012-09-29 00:00:00.000</td><td>2699,9018</td></tr>",
            "<tr><td>47957</td><td>2012-09-29 00:00:00.000</td><td>1105,4834</td></tr>",
            "<tr><td>47958</td><td>2012-09-29 00:00:00.000</td><td>865,2040</td></tr>",
            "<tr><td>47959</td><td>2012-09-29 00:00:00.000</td><td>865,2040</td></tr>",
            "<tr><td>47960</td><td>2012-09-30 00:00:00.000</td><td>12997,4011</td></tr>",
            "<tr><td>47961</td><td>2012-09-30 00:00:00.000</td><td>729,6412</td></tr>",
            "<tr><td>47962</td><td>2012-09-30 00:00:00.000</td><td>43393,5931</td></tr>",
            "<tr><td>47963</td><td>2012-09-30 00:00:00.000</td><td>5664,4170</td></tr>",
            "<tr><td>47964</td><td>2012-09-30 00:00:00.000</td><td>2949,1326</td></tr>",
            "<tr><td>47965</td><td>2012-09-30 00:00:00.000</td><td>55842,0357</td></tr>",
            "<tr><td>47966</td><td>2012-09-30 00:00:00.000</td><td>5559,7175</td></tr>",
            "<tr><td>47967</td><td>2012-09-30 00:00:00.000</td><td>43288,9540</td></tr>",
            "<tr><td>47968</td><td>2012-09-30 00:00:00.000</td><td>307,5668</td></tr>",
            "<tr><td>47969</td><td>2012-09-30 00:00:00.000</td><td>9822,3031</td></tr>",
            "<tr><td>47970</td><td>2012-09-30 00:00:00.000</td><td>81357,0314</td></tr>",
            "<tr><td>47971</td><td>2012-09-30 00:00:00.000</td><td>6347,8565</td></tr>",
            "<tr><td>47972</td><td>2012-09-30 00:00:00.000</td><td>3425,4214</td></tr>",
            "<tr><td>47973</td><td>2012-09-30 00:00:00.000</td><td>53087,0989</td></tr>",
            "<tr><td>47974</td><td>2012-09-30 00:00:00.000</td><td>723,1037</td></tr>",
            "<tr><td>47975</td><td>2012-09-30 00:00:00.000</td><td>55601,1616</td></tr>",
            "<tr><td>47976</td><td>2012-09-30 00:00:00.000</td><td>45097,4442</td></tr>",
            "<tr><td>47977</td><td>2012-09-30 00:00:00.000</td><td>9248,7115</td></tr>",
            "<tr><td>47978</td><td>2012-09-30 00:00:00.000</td><td>26203,0319</td></tr>",
            "<tr><td>47979</td><td>2012-09-30 00:00:00.000</td><td>4001,1931</td></tr>",
            "<tr><td>47980</td><td>2012-09-30 00:00:00.000</td><td>25391,0378</td></tr>",
            "<tr><td>47981</td><td>2012-09-30 00:00:00.000</td><td>3047,9964</td></tr>",
            "<tr><td>47982</td><td>2012-09-30 00:00:00.000</td><td>76,2966</td></tr>",
            "<tr><td>47983</td><td>2012-09-30 00:00:00.000</td><td>528,9880</td></tr>",
            "<tr><td>47984</td><td>2012-09-30 00:00:00.000</td><td>6622,6191</td></tr>",
            "<tr><td>47985</td><td>2012-09-30 00:00:00.000</td><td>23,1773</td></tr>",
            "<tr><td>47986</td><td>2012-09-30 00:00:00.000</td><td>98786,0510</td></tr>",
            "<tr><td>47987</td><td>2012-09-30 00:00:00.000</td><td>1797,0194</td></tr>",
            "<tr><td>47988</td><td>2012-09-30 00:00:00.000</td><td>107394,7718</td></tr>",
            "<tr><td>47989</td><td>2012-09-30 00:00:00.000</td><td>8418,7379</td></tr>",
            "<tr><td>47990</td><td>2012-09-30 00:00:00.000</td><td>112859,9318</td></tr>",
            "<tr><td>47991</td><td>2012-09-30 00:00:00.000</td><td>39748,1045</td></tr>",
            "<tr><td>47992</td><td>2012-09-30 00:00:00.000</td><td>48974,7969</td></tr>",
            "<tr><td>47993</td><td>2012-09-30 00:00:00.000</td><td>10283,5803</td></tr>",
            "<tr><td>47994</td><td>2012-09-30 00:00:00.000</td><td>53191,3049</td></tr>",
            "<tr><td>47995</td><td>2012-09-30 00:00:00.000</td><td>16319,2209</td></tr>",
            "<tr><td>47996</td><td>2012-09-30 00:00:00.000</td><td>45220,8879</td></tr>",
            "<tr><td>47997</td><td>2012-09-30 00:00:00.000</td><td>4682,6908</td></tr>",
            "<tr><td>47998</td><td>2012-09-30 00:00:00.000</td><td>12839,3803</td></tr>",
            "<tr><td>47999</td><td>2012-09-30 00:00:00.000</td><td>38477,3289</td></tr>",
            "<tr><td>48000</td><td>2012-09-30 00:00:00.000</td><td>881,9341</td></tr>",
            "<tr><td>48001</td><td>2012-09-30 00:00:00.000</td><td>40968,3578</td></tr>",
            "<tr><td>48002</td><td>2012-09-30 00:00:00.000</td><td>5190,1966</td></tr>",
            "<tr><td>48003</td><td>2012-09-30 00:00:00.000</td><td>269,8050</td></tr>",
            "<tr><td>48004</td><td>2012-09-30 00:00:00.000</td><td>49589,3932</td></tr>",
            "<tr><td>48005</td><td>2012-09-30 00:00:00.000</td><td>99112,4483</td></tr>",
            "<tr><td>48006</td><td>2012-09-30 00:00:00.000</td><td>16398,6293</td></tr>",
            "<tr><td>48007</td><td>2012-09-30 00:00:00.000</td><td>729,6412</td></tr>",
            "<tr><td>48008</td><td>2012-09-30 00:00:00.000</td><td>729,3058</td></tr>",
            "<tr><td>48009</td><td>2012-09-30 00:00:00.000</td><td>8980,0993</td></tr>",
            "<tr><td>48010</td><td>2012-09-30 00:00:00.000</td><td>74493,7567</td></tr>",
            "<tr><td>48011</td><td>2012-09-30 00:00:00.000</td><td>8463,8087</td></tr>",
            "<tr><td>48012</td><td>2012-09-30 00:00:00.000</td><td>57550,3009</td></tr>",
            "<tr><td>48013</td><td>2012-09-30 00:00:00.000</td><td>2257,2249</td></tr>",
            "<tr><td>48014</td><td>2012-09-30 00:00:00.000</td><td>236,3547</td></tr>",
            "<tr><td>48015</td><td>2012-09-30 00:00:00.000</td><td>3400,0346</td></tr>",
            "<tr><td>48016</td><td>2012-09-30 00:00:00.000</td><td>49868,5573</td></tr>",
            "<tr><td>48017</td><td>2012-09-30 00:00:00.000</td><td>40878,2782</td></tr>",
            "<tr><td>48018</td><td>2012-09-30 00:00:00.000</td><td>50220,1810</td></tr>",
            "<tr><td>48019</td><td>2012-09-30 00:00:00.000</td><td>6997,2556</td></tr>",
            "<tr><td>48020</td><td>2012-09-30 00:00:00.000</td><td>8530,1459</td></tr>",
            "<tr><td>48021</td><td>2012-09-30 00:00:00.000</td><td>40073,1715</td></tr>",
            "<tr><td>48022</td><td>2012-09-30 00:00:00.000</td><td>4557,1730</td></tr>",
            "<tr><td>48023</td><td>2012-09-30 00:00:00.000</td><td>35116,7008</td></tr>",
            "<tr><td>48024</td><td>2012-09-30 00:00:00.000</td><td>22,3061</td></tr>",
            "<tr><td>48025</td><td>2012-09-30 00:00:00.000</td><td>1536,6916</td></tr>",
            "<tr><td>48026</td><td>2012-09-30 00:00:00.000</td><td>52145,5501</td></tr>",
            "<tr><td>48027</td><td>2012-09-30 00:00:00.000</td><td>350,2312</td></tr>",
            "<tr><td>48028</td><td>2012-09-30 00:00:00.000</td><td>36875,2682</td></tr>",
            "<tr><td>48029</td><td>2012-09-30 00:00:00.000</td><td>22,3061</td></tr>",
            "<tr><td>48030</td><td>2012-09-30 00:00:00.000</td><td>3659,8671</td></tr>",
            "<tr><td>48031</td><td>2012-09-30 00:00:00.000</td><td>41112,0010</td></tr>",
            "<tr><td>48032</td><td>2012-09-30 00:00:00.000</td><td>2766,3611</td></tr>",
            "<tr><td>48033</td><td>2012-09-30 00:00:00.000</td><td>53583,1341</td></tr>",
            "<tr><td>48034</td><td>2012-09-30 00:00:00.000</td><td>17589,2799</td></tr>",
            "<tr><td>48035</td><td>2012-09-30 00:00:00.000</td><td>58881,9766</td></tr>",
            "<tr><td>48036</td><td>2012-09-30 00:00:00.000</td><td>39091,4814</td></tr>",
            "<tr><td>48037</td><td>2012-09-30 00:00:00.000</td><td>23508,3625</td></tr>",
            "<tr><td>48038</td><td>2012-09-30 00:00:00.000</td><td>9247,1139</td></tr>",
            "<tr><td>48039</td><td>2012-09-30 00:00:00.000</td><td>1942,5688</td></tr>",
            "<tr><td>48040</td><td>2012-09-30 00:00:00.000</td><td>1697,5192</td></tr>",
            "<tr><td>48041</td><td>2012-09-30 00:00:00.000</td><td>11451,9319</td></tr>",
            "<tr><td>48042</td><td>2012-09-30 00:00:00.000</td><td>2414,6245</td></tr>",
            "<tr><td>48043</td><td>2012-09-30 00:00:00.000</td><td>109751,4891</td></tr>",
            "<tr><td>48044</td><td>2012-09-30 00:00:00.000</td><td>245,1090</td></tr>",
            "<tr><td>48045</td><td>2012-09-30 00:00:00.000</td><td>1302,7588</td></tr>",
            "<tr><td>48046</td><td>2012-09-30 00:00:00.000</td><td>362,9685</td></tr>",
            "<tr><td>48047</td><td>2012-09-30 00:00:00.000</td><td>15,7361</td></tr>",
            "<tr><td>48048</td><td>2012-09-30 00:00:00.000</td><td>107136,3425</td></tr>",
            "<tr><td>48049</td><td>2012-09-30 00:00:00.000</td><td>46172,7196</td></tr>",
            "<tr><td>48050</td><td>2012-09-30 00:00:00.000</td><td>37910,4265</td></tr>",
            "<tr><td>48051</td><td>2012-09-30 00:00:00.000</td><td>48155,6042</td></tr>",
            "<tr><td>48052</td><td>2012-09-30 00:00:00.000</td><td>27778,5386</td></tr>",
            "<tr><td>48053</td><td>2012-09-30 00:00:00.000</td><td>43139,5672</td></tr>",
            "<tr><td>48054</td><td>2012-09-30 00:00:00.000</td><td>3173,9282</td></tr>",
            "<tr><td>48055</td><td>2012-09-30 00:00:00.000</td><td>2268,5228</td></tr>",
            "<tr><td>48056</td><td>2012-09-30 00:00:00.000</td><td>67121,2511</td></tr>",
            "<tr><td>48057</td><td>2012-09-30 00:00:00.000</td><td>97613,7308</td></tr>",
            "<tr><td>48058</td><td>2012-09-30 00:00:00.000</td><td>23,1773</td></tr>",
            "<tr><td>48059</td><td>2012-09-30 00:00:00.000</td><td>49784,3531</td></tr>",
            "<tr><td>48060</td><td>2012-09-30 00:00:00.000</td><td>1586,9642</td></tr>",
            "<tr><td>48061</td><td>2012-09-30 00:00:00.000</td><td>1057,9760</td></tr>",
            "<tr><td>48062</td><td>2012-09-30 00:00:00.000</td><td>16080,0463</td></tr>",
            "<tr><td>48063</td><td>2012-09-30 00:00:00.000</td><td>40986,0702</td></tr>",
            "<tr><td>48064</td><td>2012-09-30 00:00:00.000</td><td>100,4487</td></tr>",
            "<tr><td>48065</td><td>2012-09-30 00:00:00.000</td><td>89031,0812</td></tr>",
            "<tr><td>48066</td><td>2012-09-30 00:00:00.000</td><td>44070,7691</td></tr>",
            "<tr><td>48067</td><td>2012-09-30 00:00:00.000</td><td>40,0883</td></tr>",
            "<tr><td>48068</td><td>2012-09-30 00:00:00.000</td><td>2851,8933</td></tr>",
            "<tr><td>48069</td><td>2012-09-30 00:00:00.000</td><td>74829,8502</td></tr>",
            "<tr><td>48070</td><td>2012-09-30 00:00:00.000</td><td>207,7582</td></tr>",
            "<tr><td>48071</td><td>2012-09-30 00:00:00.000</td><td>38624,2853</td></tr>",
            "<tr><td>48072</td><td>2012-09-30 00:00:00.000</td><td>4411,7543</td></tr>",
            "<tr><td>48073</td><td>2012-09-30 00:00:00.000</td><td>11543,7753</td></tr>",
            "<tr><td>48074</td><td>2012-09-30 00:00:00.000</td><td>228,5340</td></tr>",
            "<tr><td>48075</td><td>2012-09-30 00:00:00.000</td><td>21149,6277</td></tr>",
            "<tr><td>48076</td><td>2012-09-30 00:00:00.000</td><td>72651,9849</td></tr>",
            "<tr><td>48077</td><td>2012-09-30 00:00:00.000</td><td>44637,9672</td></tr>",
            "<tr><td>48078</td><td>2012-09-30 00:00:00.000</td><td>2768,7414</td></tr>",
            "<tr><td>48079</td><td>2012-09-30 00:00:00.000</td><td>48930,5642</td></tr>",
            "<tr><td>48080</td><td>2012-09-30 00:00:00.000</td><td>56071,6643</td></tr>",
            "<tr><td>48081</td><td>2012-09-30 00:00:00.000</td><td>1650,7273</td></tr>",
            "<tr><td>48082</td><td>2012-09-30 00:00:00.000</td><td>1384,3708</td></tr>",
            "<tr><td>48083</td><td>2012-09-30 00:00:00.000</td><td>7806,9381</td></tr>",
            "<tr><td>48084</td><td>2012-09-30 00:00:00.000</td><td>4416,4142</td></tr>",
            "<tr><td>48085</td><td>2012-09-30 00:00:00.000</td><td>1286,5101</td></tr>",
            "<tr><td>48086</td><td>2012-09-30 00:00:00.000</td><td>76,2853</td></tr>",
            "<tr><td>48087</td><td>2012-09-30 00:00:00.000</td><td>53883,4153</td></tr>",
            "<tr><td>48088</td><td>2012-09-30 00:00:00.000</td><td>12580,7382</td></tr>",
            "<tr><td>48089</td><td>2012-09-30 00:00:00.000</td><td>68500,2118</td></tr>",
            "<tr><td>48090</td><td>2012-09-30 00:00:00.000</td><td>8487,9788</td></tr>",
            "<tr><td>48091</td><td>2012-09-30 00:00:00.000</td><td>1473,8636</td></tr>",
            "<tr><td>48092</td><td>2012-09-30 00:00:00.000</td><td>265,7329</td></tr>",
            "<tr><td>48093</td><td>2012-09-30 00:00:00.000</td><td>2410,6266</td></tr>",
            "<tr><td>48094</td><td>2012-09-30 00:00:00.000</td><td>2699,9018</td></tr>",
            "<tr><td>48095</td><td>2012-09-30 00:00:00.000</td><td>865,2040</td></tr>",
            "<tr><td>48096</td><td>2012-09-30 00:00:00.000</td><td>865,2040</td></tr>",
            "<tr><td>48097</td><td>2012-09-30 00:00:00.000</td><td>2699,9018</td></tr>",
            "<tr><td>48098</td><td>2012-09-30 00:00:00.000</td><td>2410,6266</td></tr>",
            "</table>"
        ]
    }
}
],
            "execution_count": null
        }
    ]
}